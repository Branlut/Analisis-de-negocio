{
 "cells": [
  {
   "cell_type": "markdown",
   "metadata": {},
   "source": [
    "Hola &#x1F600;\n",
    "\n",
    "Soy **Hesus Garcia**  como \"Jesús\" pero con H. Sé que puede ser confuso al principio, pero una vez que lo recuerdes, ¡nunca lo olvidarás! &#x1F31D;\t. Como revisor de código de Triple-Ten, estoy emocionado de examinar tus proyectos y ayudarte a mejorar tus habilidades en programación. si has cometido algún error, no te preocupes, pues ¡estoy aquí para ayudarte a corregirlo y hacer que tu código brille! &#x1F31F;. Si encuentro algún detalle en tu código, te lo señalaré para que lo corrijas, ya que mi objetivo es ayudarte a prepararte para un ambiente de trabajo real, donde el líder de tu equipo actuaría de la misma manera. Si no puedes solucionar el problema, te proporcionaré más información en la próxima oportunidad. Cuando encuentres un comentario,  **por favor, no los muevas, no los modifiques ni los borres**. \n",
    "\n",
    "Revisaré cuidadosamente todas las implementaciones que has realizado para cumplir con los requisitos y te proporcionaré mis comentarios de la siguiente manera:\n",
    "\n",
    "\n",
    "<div class=\"alert alert-block alert-success\">\n",
    "<b>Comentario del revisor</b> <a class=“tocSkip”></a>\n",
    "Si todo está perfecto.\n",
    "</div>\n",
    "\n",
    "<div class=\"alert alert-block alert-warning\">\n",
    "<b>Comentario del revisor</b> <a class=“tocSkip”></a>\n",
    "Si tu código está bien pero se puede mejorar o hay algún detalle que le hace falta.\n",
    "</div>\n",
    "\n",
    "<div class=\"alert alert-block alert-danger\">\n",
    "<b>Comentario del revisor</b> <a class=“tocSkip”></a>\n",
    "Si de pronto hace falta algo o existe algún problema con tu código o conclusiones.\n",
    "</div>\n",
    "\n",
    "Puedes responderme de esta forma:\n",
    "<div class=\"alert alert-block alert-info\">\n",
    "<b>Respuesta del estudiante</b> <a class=“tocSkip”></a>\n",
    "</div>\n",
    "\n",
    "</br>\n",
    "\n",
    "**¡Empecemos!**  &#x1F680;"
   ]
  },
  {
   "cell_type": "markdown",
   "metadata": {},
   "source": [
    "# Contexto\n",
    "La empresa Showz la cual se dedica a la venta de entradas de eventos nos contrata para el departamento de analitica.\n",
    "\n",
    "Tenemos a nuetra disposicion:\n",
    "\n",
    "-registros del servidor con datos sobre las visitas a Showz desde enero de 2017 hasta diciembre de 2018;\n",
    "\n",
    "-un archivo con los pedidos en este periodo\n",
    "\n",
    "-estadísticas de gastos de marketing."
   ]
  },
  {
   "cell_type": "markdown",
   "metadata": {},
   "source": [
    "# Objetivo\n",
    "Optimizar los gastos de marketing investigando:\n",
    "\n",
    "-cómo los clientes usan el servicio;\n",
    "\n",
    "-cuándo empiezan a comprar;\n",
    "\n",
    "-cuánto dinero aporta cada cliente a la compañía;\n",
    "\n",
    "-cuándo los ingresos cubren el costo de adquisición de los clientes.\n"
   ]
  },
  {
   "cell_type": "code",
   "execution_count": 59,
   "metadata": {},
   "outputs": [],
   "source": [
    "import pandas as pd\n",
    "import numpy as np\n",
    "import math as mt\n",
    "from matplotlib import pyplot as plt\n",
    "from scipy import stats as st\n",
    "import seaborn as sns"
   ]
  },
  {
   "cell_type": "markdown",
   "metadata": {},
   "source": [
    "<div class=\"alert alert-block alert-warning\">\n",
    "<b>Comentario del revisor</b> <a class=“tocSkip”></a>\n",
    "Quería proporcionarte algunos comentarios sobre la organización de los imports en tu códig\n",
    "    \n",
    "    \n",
    "Es preferible agrupar los imports siguiendo el siguiente orden:\n",
    "\n",
    "Imports de la biblioteca estándar de Python.\n",
    "Imports de bibliotecas de terceros relacionadas.\n",
    "Imports específicos de la aplicación local o biblioteca personalizada.\n",
    "Para mejorar la legibilidad del código, también es recomendable dejar una línea en blanco entre cada grupo de imports, pero solo un import por línea.\n",
    "Te dejo esta referencia con ejemplos:  \n",
    "https://pep8.org/#imports\n",
    "\n",
    "</div>"
   ]
  },
  {
   "cell_type": "code",
   "execution_count": 60,
   "metadata": {},
   "outputs": [],
   "source": [
    "df_visits = pd.read_csv('/datasets/visits_log_us.csv')\n",
    "df_orders = pd.read_csv ('/datasets/orders_log_us.csv')\n",
    "df_cost = pd.read_csv('/datasets/costs_us.csv')\n",
    "\n"
   ]
  },
  {
   "cell_type": "markdown",
   "metadata": {},
   "source": [
    "## Tabla visits"
   ]
  },
  {
   "cell_type": "code",
   "execution_count": 61,
   "metadata": {},
   "outputs": [
    {
     "name": "stdout",
     "output_type": "stream",
     "text": [
      "<class 'pandas.core.frame.DataFrame'>\n",
      "RangeIndex: 359400 entries, 0 to 359399\n",
      "Data columns (total 5 columns):\n",
      " #   Column     Non-Null Count   Dtype \n",
      "---  ------     --------------   ----- \n",
      " 0   Device     359400 non-null  object\n",
      " 1   End Ts     359400 non-null  object\n",
      " 2   Source Id  359400 non-null  int64 \n",
      " 3   Start Ts   359400 non-null  object\n",
      " 4   Uid        359400 non-null  uint64\n",
      "dtypes: int64(1), object(3), uint64(1)\n",
      "memory usage: 13.7+ MB\n"
     ]
    }
   ],
   "source": [
    "df_visits.info()"
   ]
  },
  {
   "cell_type": "code",
   "execution_count": 62,
   "metadata": {},
   "outputs": [
    {
     "name": "stdout",
     "output_type": "stream",
     "text": [
      "    Device               End Ts  Source Id             Start Ts  \\\n",
      "0    touch  2017-12-20 17:38:00          4  2017-12-20 17:20:00   \n",
      "1  desktop  2018-02-19 17:21:00          2  2018-02-19 16:53:00   \n",
      "2    touch  2017-07-01 01:54:00          5  2017-07-01 01:54:00   \n",
      "3  desktop  2018-05-20 11:23:00          9  2018-05-20 10:59:00   \n",
      "4  desktop  2017-12-27 14:06:00          3  2017-12-27 14:06:00   \n",
      "\n",
      "                    Uid  \n",
      "0  16879256277535980062  \n",
      "1    104060357244891740  \n",
      "2   7459035603376831527  \n",
      "3  16174680259334210214  \n",
      "4   9969694820036681168  \n"
     ]
    }
   ],
   "source": [
    " print(df_visits.head())"
   ]
  },
  {
   "cell_type": "code",
   "execution_count": 63,
   "metadata": {},
   "outputs": [
    {
     "name": "stdout",
     "output_type": "stream",
     "text": [
      "         device               end_ts  source_id             start_ts  \\\n",
      "0         touch  2017-12-20 17:38:00          4  2017-12-20 17:20:00   \n",
      "1       desktop  2018-02-19 17:21:00          2  2018-02-19 16:53:00   \n",
      "2         touch  2017-07-01 01:54:00          5  2017-07-01 01:54:00   \n",
      "3       desktop  2018-05-20 11:23:00          9  2018-05-20 10:59:00   \n",
      "4       desktop  2017-12-27 14:06:00          3  2017-12-27 14:06:00   \n",
      "...         ...                  ...        ...                  ...   \n",
      "359395  desktop  2017-07-29 19:07:19          2  2017-07-29 19:07:00   \n",
      "359396    touch  2018-01-25 17:38:19          1  2018-01-25 17:38:00   \n",
      "359397  desktop  2018-03-03 10:12:19          4  2018-03-03 10:12:00   \n",
      "359398  desktop  2017-11-02 10:12:19          5  2017-11-02 10:12:00   \n",
      "359399    touch  2017-09-10 13:13:19          2  2017-09-10 13:13:00   \n",
      "\n",
      "                         uid  \n",
      "0       16879256277535980062  \n",
      "1         104060357244891740  \n",
      "2        7459035603376831527  \n",
      "3       16174680259334210214  \n",
      "4        9969694820036681168  \n",
      "...                      ...  \n",
      "359395  18363291481961487539  \n",
      "359396  18370831553019119586  \n",
      "359397  18387297585500748294  \n",
      "359398  18388616944624776485  \n",
      "359399  18396128934054549559  \n",
      "\n",
      "[359400 rows x 5 columns]\n"
     ]
    }
   ],
   "source": [
    "df_visits.columns = df_visits.columns.str.lower()\n",
    "df_visits.columns = df_visits.columns.str.replace(' ','_')\n",
    "print(df_visits)"
   ]
  },
  {
   "cell_type": "markdown",
   "metadata": {},
   "source": [
    "<div class=\"alert alert-block alert-success\">\n",
    "<b>Comentarios del Revisor</b> <a class=\"tocSkip\"></a><br>\n",
    "Quiero darte un consejo útil: en lugar de usar la función `print` para mostrar tus DataFrames en Jupyter Notebook, simplemente escribe el nombre del DataFrame en una celda.\n",
    "\n",
    "En otras palabras, en lugar de hacer esto:\n",
    "\n",
    "```python\n",
    "print(mi_dataframe)\n",
    "```\n",
    "\n",
    "Puedes hacer esto en una celda por separado:\n",
    "\n",
    "```python\n",
    "mi_dataframe\n",
    "```\n",
    "\n",
    "Cuando lo haces de esta manera, Jupyter Notebook interpreta y muestra tus DataFrames de una manera más agradable, haciéndolos más fáciles de leer. No es necesario usar `print` en este caso.\n",
    "\n",
    "Espero que esta sugerencia te ayude a trabajar de manera más eficiente en tus proyectos. ¡Sigue adelante y sigue aprendiendo!\n",
    "</div>\n"
   ]
  },
  {
   "cell_type": "code",
   "execution_count": 64,
   "metadata": {},
   "outputs": [
    {
     "name": "stdout",
     "output_type": "stream",
     "text": [
      "<class 'pandas.core.frame.DataFrame'>\n",
      "RangeIndex: 359400 entries, 0 to 359399\n",
      "Data columns (total 5 columns):\n",
      " #   Column     Non-Null Count   Dtype         \n",
      "---  ------     --------------   -----         \n",
      " 0   device     359400 non-null  object        \n",
      " 1   end_ts     359400 non-null  datetime64[ns]\n",
      " 2   source_id  359400 non-null  int64         \n",
      " 3   start_ts   359400 non-null  datetime64[ns]\n",
      " 4   uid        359400 non-null  uint64        \n",
      "dtypes: datetime64[ns](2), int64(1), object(1), uint64(1)\n",
      "memory usage: 13.7+ MB\n"
     ]
    }
   ],
   "source": [
    "df_visits['end_ts'] = pd.to_datetime(df_visits['end_ts'])\n",
    "df_visits['start_ts'] = pd.to_datetime(df_visits['start_ts'])\n",
    "df_visits.info()"
   ]
  },
  {
   "cell_type": "code",
   "execution_count": 65,
   "metadata": {},
   "outputs": [
    {
     "name": "stdout",
     "output_type": "stream",
     "text": [
      "device       0\n",
      "end_ts       0\n",
      "source_id    0\n",
      "start_ts     0\n",
      "uid          0\n",
      "dtype: int64\n"
     ]
    }
   ],
   "source": [
    "print(df_visits.isna().sum())"
   ]
  },
  {
   "cell_type": "code",
   "execution_count": 66,
   "metadata": {},
   "outputs": [
    {
     "name": "stdout",
     "output_type": "stream",
     "text": [
      "0\n",
      "359391\n",
      "131231\n"
     ]
    }
   ],
   "source": [
    "print(df_visits.duplicated().sum())\n",
    "print(df_visits['source_id'].duplicated().sum())\n",
    "print(df_visits['uid'].duplicated().sum())\n"
   ]
  },
  {
   "cell_type": "code",
   "execution_count": 67,
   "metadata": {},
   "outputs": [
    {
     "name": "stdout",
     "output_type": "stream",
     "text": [
      "[ 4  2  5  9  3  1 10  7  6]\n",
      "1      34121\n",
      "2      47626\n",
      "3      85610\n",
      "4     101794\n",
      "5      66905\n",
      "6          6\n",
      "7         36\n",
      "9      13277\n",
      "10     10025\n",
      "Name: source_id, dtype: int64\n"
     ]
    }
   ],
   "source": [
    "print(df_visits['source_id'].unique())\n",
    "print(df_visits['source_id'].value_counts().sort_index())"
   ]
  },
  {
   "cell_type": "markdown",
   "metadata": {},
   "source": [
    "-El dataframe df_visits cuenta con 5 columnas y todas son non-null\n",
    "\n",
    "-Tiene 359400 registros y las 5 columnas cuentan con todos los registros\n",
    "\n",
    "-Los nombres de las columnas no tienen un formato estandar por lo cual se cambiaran al formato snake case\n",
    "\n",
    "-El tipo de dato es correcto menos para los campos de fecha en este caso start_ts y end_ts los cuales estan definidos como object y se cambiarion a datetime para un mejor analisis\n",
    "\n",
    "-La columna source_id cuenta con un codigo correspondiente a la fuente del anuncion por el cual proviene el usuario pero este codigo no contiene la fuente correspondiente  a la fuente 8 puede ser un error que solo sean 9 fuentes y se se cometiera un error o que la fuente de anuncion correspondiente al 8 no trajiera a ningun usuario\n",
    "\n",
    "-A simple vista algunos registros cuentan con un hora de inicio y fin identicas por lo cual se tiene revisar si es un error de registro o si existe algun problema con el despositivo por el cual ingreso el usuario\n",
    "\n",
    "-No se cuenta con registros totalmente duplicados, verificar por campos es innecesario ya que son registros de inicio y fin de sesion y un usuario puede ingresar mas de 1 vez en el dia."
   ]
  },
  {
   "cell_type": "markdown",
   "metadata": {},
   "source": [
    "<div class=\"alert alert-block alert-success\"> <b>Comentario del revisor</b> <a class=“tocSkip”></a> Muy buen manejo del preprocesamiento de los datos en la tabla 'Visits'. </div>"
   ]
  },
  {
   "cell_type": "markdown",
   "metadata": {},
   "source": [
    "## Tabla orders\n"
   ]
  },
  {
   "cell_type": "code",
   "execution_count": 68,
   "metadata": {},
   "outputs": [
    {
     "name": "stdout",
     "output_type": "stream",
     "text": [
      "<class 'pandas.core.frame.DataFrame'>\n",
      "RangeIndex: 50415 entries, 0 to 50414\n",
      "Data columns (total 3 columns):\n",
      " #   Column   Non-Null Count  Dtype  \n",
      "---  ------   --------------  -----  \n",
      " 0   Buy Ts   50415 non-null  object \n",
      " 1   Revenue  50415 non-null  float64\n",
      " 2   Uid      50415 non-null  uint64 \n",
      "dtypes: float64(1), object(1), uint64(1)\n",
      "memory usage: 1.2+ MB\n"
     ]
    }
   ],
   "source": [
    "df_orders.info()"
   ]
  },
  {
   "cell_type": "code",
   "execution_count": 69,
   "metadata": {},
   "outputs": [
    {
     "name": "stdout",
     "output_type": "stream",
     "text": [
      "                Buy Ts  Revenue                   Uid\n",
      "0  2017-06-01 00:10:00    17.00  10329302124590727494\n",
      "1  2017-06-01 00:25:00     0.55  11627257723692907447\n",
      "2  2017-06-01 00:27:00     0.37  17903680561304213844\n",
      "3  2017-06-01 00:29:00     0.55  16109239769442553005\n",
      "4  2017-06-01 07:58:00     0.37  14200605875248379450\n"
     ]
    }
   ],
   "source": [
    "print(df_orders.head())"
   ]
  },
  {
   "cell_type": "code",
   "execution_count": 70,
   "metadata": {},
   "outputs": [
    {
     "name": "stdout",
     "output_type": "stream",
     "text": [
      "                    buy_ts  revenue                   uid\n",
      "0      2017-06-01 00:10:00    17.00  10329302124590727494\n",
      "1      2017-06-01 00:25:00     0.55  11627257723692907447\n",
      "2      2017-06-01 00:27:00     0.37  17903680561304213844\n",
      "3      2017-06-01 00:29:00     0.55  16109239769442553005\n",
      "4      2017-06-01 07:58:00     0.37  14200605875248379450\n",
      "...                    ...      ...                   ...\n",
      "50410  2018-05-31 23:50:00     4.64  12296626599487328624\n",
      "50411  2018-05-31 23:50:00     5.80  11369640365507475976\n",
      "50412  2018-05-31 23:54:00     0.30   1786462140797698849\n",
      "50413  2018-05-31 23:56:00     3.67   3993697860786194247\n",
      "50414  2018-06-01 00:02:00     3.42     83872787173869366\n",
      "\n",
      "[50415 rows x 3 columns]\n"
     ]
    }
   ],
   "source": [
    "df_orders.columns = df_orders.columns.str.lower()\n",
    "df_orders.columns = df_orders.columns.str.replace(' ','_')\n",
    "print(df_orders)"
   ]
  },
  {
   "cell_type": "code",
   "execution_count": 71,
   "metadata": {},
   "outputs": [
    {
     "name": "stdout",
     "output_type": "stream",
     "text": [
      "<class 'pandas.core.frame.DataFrame'>\n",
      "RangeIndex: 50415 entries, 0 to 50414\n",
      "Data columns (total 3 columns):\n",
      " #   Column   Non-Null Count  Dtype         \n",
      "---  ------   --------------  -----         \n",
      " 0   buy_ts   50415 non-null  datetime64[ns]\n",
      " 1   revenue  50415 non-null  float64       \n",
      " 2   uid      50415 non-null  uint64        \n",
      "dtypes: datetime64[ns](1), float64(1), uint64(1)\n",
      "memory usage: 1.2 MB\n"
     ]
    }
   ],
   "source": [
    "df_orders['buy_ts'] = pd.to_datetime(df_orders['buy_ts'])\n",
    "df_orders.info()"
   ]
  },
  {
   "cell_type": "code",
   "execution_count": 72,
   "metadata": {},
   "outputs": [
    {
     "name": "stdout",
     "output_type": "stream",
     "text": [
      "buy_ts     0\n",
      "revenue    0\n",
      "uid        0\n",
      "dtype: int64\n"
     ]
    }
   ],
   "source": [
    "print(df_orders.isna().sum())"
   ]
  },
  {
   "cell_type": "code",
   "execution_count": 73,
   "metadata": {},
   "outputs": [
    {
     "name": "stdout",
     "output_type": "stream",
     "text": [
      "0\n"
     ]
    }
   ],
   "source": [
    "print(df_orders.duplicated().sum())"
   ]
  },
  {
   "cell_type": "markdown",
   "metadata": {},
   "source": [
    "-El dataframe cuenta con con 3 columnas todas non-null\n",
    "\n",
    "-Tiene 50415 y las 3 columnas cuentan con todos lo registros\n",
    "\n",
    "-Los nombres de las columnas no tienen un formato estandar por lo cual se cambiaran al formato snake case\n",
    "\n",
    "-El tipo de dato se tiene que cambiar para la columna buy_ts ya que esta como object y para un mejor analisis posterior se cambiara datetime\n",
    "\n",
    "-No se cuenta con registros totalmente duplicados, verificar por campos es innecesario ya que son registros de compra y un usuario puede hacer mas de una compra"
   ]
  },
  {
   "cell_type": "markdown",
   "metadata": {},
   "source": [
    "<div class=\"alert alert-block alert-success\"> <b>Comentario del revisor</b> <a class=“tocSkip”></a> Excelente trabajo al unificar el formato de las columnas y ajustar los tipos de datos en la tabla 'Orders'. Has seguido un buen enfoque al identificar el momento de las primeras compras. </div>"
   ]
  },
  {
   "cell_type": "markdown",
   "metadata": {},
   "source": [
    "## Tabla cost"
   ]
  },
  {
   "cell_type": "code",
   "execution_count": 74,
   "metadata": {},
   "outputs": [
    {
     "name": "stdout",
     "output_type": "stream",
     "text": [
      "<class 'pandas.core.frame.DataFrame'>\n",
      "RangeIndex: 2542 entries, 0 to 2541\n",
      "Data columns (total 3 columns):\n",
      " #   Column     Non-Null Count  Dtype  \n",
      "---  ------     --------------  -----  \n",
      " 0   source_id  2542 non-null   int64  \n",
      " 1   dt         2542 non-null   object \n",
      " 2   costs      2542 non-null   float64\n",
      "dtypes: float64(1), int64(1), object(1)\n",
      "memory usage: 59.7+ KB\n"
     ]
    }
   ],
   "source": [
    "df_cost.info()"
   ]
  },
  {
   "cell_type": "code",
   "execution_count": 75,
   "metadata": {},
   "outputs": [
    {
     "name": "stdout",
     "output_type": "stream",
     "text": [
      "   source_id          dt  costs\n",
      "0          1  2017-06-01  75.20\n",
      "1          1  2017-06-02  62.25\n",
      "2          1  2017-06-03  36.53\n",
      "3          1  2017-06-04  55.00\n",
      "4          1  2017-06-05  57.08\n"
     ]
    }
   ],
   "source": [
    "print(df_cost.head())"
   ]
  },
  {
   "cell_type": "code",
   "execution_count": 76,
   "metadata": {},
   "outputs": [
    {
     "name": "stdout",
     "output_type": "stream",
     "text": [
      "<class 'pandas.core.frame.DataFrame'>\n",
      "RangeIndex: 2542 entries, 0 to 2541\n",
      "Data columns (total 3 columns):\n",
      " #   Column     Non-Null Count  Dtype         \n",
      "---  ------     --------------  -----         \n",
      " 0   source_id  2542 non-null   int64         \n",
      " 1   dt         2542 non-null   datetime64[ns]\n",
      " 2   costs      2542 non-null   float64       \n",
      "dtypes: datetime64[ns](1), float64(1), int64(1)\n",
      "memory usage: 59.7 KB\n"
     ]
    }
   ],
   "source": [
    "df_cost['dt'] = pd.to_datetime(df_cost['dt'])\n",
    "df_cost.info()"
   ]
  },
  {
   "cell_type": "code",
   "execution_count": 77,
   "metadata": {},
   "outputs": [
    {
     "name": "stdout",
     "output_type": "stream",
     "text": [
      "source_id    0\n",
      "dt           0\n",
      "costs        0\n",
      "dtype: int64\n"
     ]
    }
   ],
   "source": [
    "print(df_cost.isna().sum())"
   ]
  },
  {
   "cell_type": "code",
   "execution_count": 78,
   "metadata": {},
   "outputs": [
    {
     "name": "stdout",
     "output_type": "stream",
     "text": [
      "0\n"
     ]
    }
   ],
   "source": [
    "print(df_cost.duplicated().sum())"
   ]
  },
  {
   "cell_type": "code",
   "execution_count": 79,
   "metadata": {},
   "outputs": [
    {
     "name": "stdout",
     "output_type": "stream",
     "text": [
      "[ 1  2  3  4  5  9 10]\n"
     ]
    }
   ],
   "source": [
    "print(df_cost['source_id'].unique())"
   ]
  },
  {
   "cell_type": "markdown",
   "metadata": {},
   "source": [
    "-El dataframe cuenta con 3 columnas todas non-null\n",
    "\n",
    "-Tiene 2542 registros y las 3 columnas cuentan con todos los registros\n",
    "\n",
    "-Los estan con el formato snake case por lo que un cambio es innecesario\n",
    "\n",
    "-Como los dataframe anteriores se tiene que cambiar la columna que contiene la fecha ya que esta como tipo object y para un mejor analisis es requerido que este como datetime\n",
    "\n",
    "-Como el dataframe df_visits este cuente con un identificador de la fuente de anuncio pero en este no se cuente con los gastos de la fuente relacionada a 6,7,8 por lo que pueden no estar los registros completos"
   ]
  },
  {
   "cell_type": "markdown",
   "metadata": {},
   "source": [
    "## Visitas"
   ]
  },
  {
   "cell_type": "markdown",
   "metadata": {},
   "source": [
    "### ¿Cuántas personas lo usan cada día, semana y mes? "
   ]
  },
  {
   "cell_type": "code",
   "execution_count": 80,
   "metadata": {},
   "outputs": [
    {
     "name": "stdout",
     "output_type": "stream",
     "text": [
      "    device              end_ts  source_id            start_ts  \\\n",
      "0    touch 2017-12-20 17:38:00          4 2017-12-20 17:20:00   \n",
      "1  desktop 2018-02-19 17:21:00          2 2018-02-19 16:53:00   \n",
      "2    touch 2017-07-01 01:54:00          5 2017-07-01 01:54:00   \n",
      "3  desktop 2018-05-20 11:23:00          9 2018-05-20 10:59:00   \n",
      "4  desktop 2017-12-27 14:06:00          3 2017-12-27 14:06:00   \n",
      "\n",
      "                    uid  \n",
      "0  16879256277535980062  \n",
      "1    104060357244891740  \n",
      "2   7459035603376831527  \n",
      "3  16174680259334210214  \n",
      "4   9969694820036681168  \n"
     ]
    }
   ],
   "source": [
    "print(df_visits.head())"
   ]
  },
  {
   "cell_type": "code",
   "execution_count": 81,
   "metadata": {},
   "outputs": [],
   "source": [
    "\n",
    "df_visits['visit_week'] = df_visits['start_ts'].dt.isocalendar().week\n",
    "df_visits['visit_month'] = df_visits['start_ts'].dt.month\n",
    "df_visits['visit_year'] = df_visits['start_ts'].dt.isocalendar().year\n",
    "df_visits['visit_date'] = df_visits['start_ts'].dt.date\n"
   ]
  },
  {
   "cell_type": "code",
   "execution_count": 82,
   "metadata": {},
   "outputs": [
    {
     "name": "stdout",
     "output_type": "stream",
     "text": [
      "    device              end_ts  source_id            start_ts  \\\n",
      "0    touch 2017-12-20 17:38:00          4 2017-12-20 17:20:00   \n",
      "1  desktop 2018-02-19 17:21:00          2 2018-02-19 16:53:00   \n",
      "2    touch 2017-07-01 01:54:00          5 2017-07-01 01:54:00   \n",
      "3  desktop 2018-05-20 11:23:00          9 2018-05-20 10:59:00   \n",
      "4  desktop 2017-12-27 14:06:00          3 2017-12-27 14:06:00   \n",
      "\n",
      "                    uid  visit_week  visit_month  visit_year  visit_date  \n",
      "0  16879256277535980062          51           12        2017  2017-12-20  \n",
      "1    104060357244891740           8            2        2018  2018-02-19  \n",
      "2   7459035603376831527          26            7        2017  2017-07-01  \n",
      "3  16174680259334210214          20            5        2018  2018-05-20  \n",
      "4   9969694820036681168          52           12        2017  2017-12-27  \n"
     ]
    }
   ],
   "source": [
    "print(df_visits.head())"
   ]
  },
  {
   "cell_type": "code",
   "execution_count": 83,
   "metadata": {},
   "outputs": [
    {
     "name": "stdout",
     "output_type": "stream",
     "text": [
      "907\n",
      "5716\n",
      "23228\n"
     ]
    }
   ],
   "source": [
    "dau_total = df_visits.groupby('visit_date').agg({'uid':'nunique'}).mean()\n",
    "wau_total = df_visits.groupby(['visit_year','visit_week']).agg({'uid':'nunique'}).mean()\n",
    "mau_total = df_visits.groupby(['visit_year','visit_month']).agg({'uid':'nunique'}).mean()\n",
    "print(int(dau_total))\n",
    "print(int(wau_total))\n",
    "print(int(mau_total))\n"
   ]
  },
  {
   "cell_type": "markdown",
   "metadata": {},
   "source": [
    "-La actividad de usuarios diaria es de 907 en promedio\n",
    "\n",
    "-La actividad de usuario semanal es de 5716 en promedio\n",
    "\n",
    "-La actividad de usuario mensual es de 23228 en promedio"
   ]
  },
  {
   "cell_type": "code",
   "execution_count": 134,
   "metadata": {},
   "outputs": [
    {
     "name": "stdout",
     "output_type": "stream",
     "text": [
      "   device              end_ts  source_id            start_ts  \\\n",
      "0   touch 2017-12-20 17:38:00          4 2017-12-20 17:20:00   \n",
      "2   touch 2017-07-01 01:54:00          5 2017-07-01 01:54:00   \n",
      "7   touch 2017-11-05 15:15:00          3 2017-11-05 15:14:00   \n",
      "14  touch 2018-04-23 18:01:00          9 2018-04-23 18:00:00   \n",
      "15  touch 2018-02-12 20:30:00          2 2018-02-12 19:24:00   \n",
      "\n",
      "                     uid  visit_week  visit_month  visit_year  visit_date  \\\n",
      "0   16879256277535980062          51           12        2017  2017-12-20   \n",
      "2    7459035603376831527          26            7        2017  2017-07-01   \n",
      "7   11423865690854540312          44           11        2017  2017-11-05   \n",
      "14  18026419100367255411          17            4        2018  2018-04-23   \n",
      "15  18188358787673499603           7            2        2018  2018-02-12   \n",
      "\n",
      "    session_duration_seg         first_visit  \n",
      "0                   1080 2017-12-20 17:20:00  \n",
      "2                      0 2017-07-01 01:54:00  \n",
      "7                     60 2017-11-05 15:14:00  \n",
      "14                    60 2017-10-04 22:44:00  \n",
      "15                  3960 2018-02-10 12:17:00  \n",
      "    device              end_ts  source_id            start_ts  \\\n",
      "1  desktop 2018-02-19 17:21:00          2 2018-02-19 16:53:00   \n",
      "3  desktop 2018-05-20 11:23:00          9 2018-05-20 10:59:00   \n",
      "4  desktop 2017-12-27 14:06:00          3 2017-12-27 14:06:00   \n",
      "5  desktop 2017-09-03 21:36:00          5 2017-09-03 21:35:00   \n",
      "6  desktop 2018-01-30 12:09:00          1 2018-01-30 11:13:00   \n",
      "\n",
      "                    uid  visit_week  visit_month  visit_year  visit_date  \\\n",
      "1    104060357244891740           8            2        2018  2018-02-19   \n",
      "3  16174680259334210214          20            5        2018  2018-05-20   \n",
      "4   9969694820036681168          52           12        2017  2017-12-27   \n",
      "5  16007536194108375387          35            9        2017  2017-09-03   \n",
      "6   6661610529277171451           5            1        2018  2018-01-30   \n",
      "\n",
      "   session_duration_seg         first_visit  \n",
      "1                  1680 2018-02-19 16:53:00  \n",
      "3                  1440 2018-03-09 20:05:00  \n",
      "4                     0 2017-12-27 14:06:00  \n",
      "5                    60 2017-09-03 21:35:00  \n",
      "6                  3360 2017-06-29 09:00:00  \n"
     ]
    }
   ],
   "source": [
    "touch_device = df_visits[df_visits['device']=='touch']\n",
    "desktop_device = df_visits[df_visits['device']=='desktop']\n",
    "print(touch_device.head())\n",
    "print(desktop_device.head())"
   ]
  },
  {
   "cell_type": "code",
   "execution_count": 135,
   "metadata": {},
   "outputs": [
    {
     "name": "stdout",
     "output_type": "stream",
     "text": [
      "252\n",
      "1634\n",
      "6825\n"
     ]
    }
   ],
   "source": [
    "dau_total_touch = touch_device.groupby('visit_date').agg({'uid':'nunique'}).mean()\n",
    "wau_total_touch = touch_device.groupby(['visit_year','visit_week']).agg({'uid':'nunique'}).mean()\n",
    "mau_total_touch = touch_device.groupby(['visit_year','visit_month']).agg({'uid':'nunique'}).mean()\n",
    "print(int(dau_total_touch))\n",
    "print(int(wau_total_touch))\n",
    "print(int(mau_total_touch))\n"
   ]
  },
  {
   "cell_type": "code",
   "execution_count": 136,
   "metadata": {},
   "outputs": [
    {
     "name": "stdout",
     "output_type": "stream",
     "text": [
      "659\n",
      "4129\n",
      "16724\n"
     ]
    }
   ],
   "source": [
    "dau_total_desktop = desktop_device.groupby('visit_date').agg({'uid':'nunique'}).mean()\n",
    "wau_total_desktop = desktop_device.groupby(['visit_year','visit_week']).agg({'uid':'nunique'}).mean()\n",
    "mau_total_desktop = desktop_device.groupby(['visit_year','visit_month']).agg({'uid':'nunique'}).mean()\n",
    "print(int(dau_total_desktop))\n",
    "print(int(wau_total_desktop))\n",
    "print(int(mau_total_desktop))\n"
   ]
  },
  {
   "cell_type": "markdown",
   "metadata": {},
   "source": [
    "### ¿Cuántas sesiones hay por día? "
   ]
  },
  {
   "cell_type": "code",
   "execution_count": 84,
   "metadata": {},
   "outputs": [
    {
     "name": "stdout",
     "output_type": "stream",
     "text": [
      "987\n"
     ]
    }
   ],
   "source": [
    "#como un usuario puede tener varias sesiones durante el el dia en vez de contar los usuarios unicos con nunique, utilice count\n",
    "#ya que con esto contara todos segun la fecha indicada\n",
    "sesions_day = df_visits.groupby('visit_date').agg({'uid':'count'}).mean()\n",
    "print(int(sesions_day))"
   ]
  },
  {
   "cell_type": "code",
   "execution_count": 85,
   "metadata": {},
   "outputs": [
    {
     "name": "stdout",
     "output_type": "stream",
     "text": [
      "            n_session  n_user      sspu\n",
      "visit_date                             \n",
      "2017-06-01        664     605  1.097521\n",
      "2017-06-02        658     608  1.082237\n",
      "2017-06-03        477     445  1.071910\n",
      "2017-06-04        510     476  1.071429\n",
      "2017-06-05        893     820  1.089024\n",
      "...               ...     ...       ...\n",
      "2018-05-27        672     620  1.083871\n",
      "2018-05-28       1156    1039  1.112608\n",
      "2018-05-29       1035     948  1.091772\n",
      "2018-05-30       1410    1289  1.093871\n",
      "2018-05-31       2256    1997  1.129695\n",
      "\n",
      "[364 rows x 3 columns]\n"
     ]
    }
   ],
   "source": [
    "#sess_per_user = df_visits.groupby(['visit_year','visit_month']).agg({'uid':['count','nunique']})\n",
    "sess_per_user = df_visits.groupby(['visit_date']).agg({'uid':['count','nunique']})\n",
    "sess_per_user.columns=['n_session','n_user']\n",
    "sess_per_user['sspu'] = sess_per_user['n_session'] /sess_per_user['n_user']\n",
    "print(sess_per_user)"
   ]
  },
  {
   "cell_type": "markdown",
   "metadata": {},
   "source": [
    "-La actividad de usuarios diaria no unica es de 987 en promedio\n",
    "\n",
    "-Hay una sesion diaria por dia "
   ]
  },
  {
   "cell_type": "markdown",
   "metadata": {},
   "source": [
    "###  ¿Cuál es la duración de cada sesión?"
   ]
  },
  {
   "cell_type": "code",
   "execution_count": 86,
   "metadata": {},
   "outputs": [
    {
     "name": "stdout",
     "output_type": "stream",
     "text": [
      "643.506488592098\n"
     ]
    }
   ],
   "source": [
    "df_visits['session_duration_seg'] = (df_visits['end_ts'] - df_visits['start_ts']).dt.seconds\n",
    "print(df_visits['session_duration_seg'].mean())"
   ]
  },
  {
   "cell_type": "code",
   "execution_count": 87,
   "metadata": {},
   "outputs": [
    {
     "data": {
      "text/plain": [
       "<AxesSubplot:>"
      ]
     },
     "execution_count": 87,
     "metadata": {},
     "output_type": "execute_result"
    },
    {
     "data": {
      "image/png": "[encoded data removed]",
      "text/plain": [
       "<Figure size 640x480 with 1 Axes>"
      ]
     },
     "metadata": {},
     "output_type": "display_data"
    }
   ],
   "source": [
    "df_visits['session_duration_seg'].hist(bins=100)"
   ]
  },
  {
   "cell_type": "code",
   "execution_count": 88,
   "metadata": {},
   "outputs": [
    {
     "name": "stdout",
     "output_type": "stream",
     "text": [
      "0    60\n",
      "dtype: int64\n"
     ]
    }
   ],
   "source": [
    "print(df_visits['session_duration_seg'].mode())"
   ]
  },
  {
   "cell_type": "markdown",
   "metadata": {},
   "source": [
    "-La duracion promedio de la sesion fue de 643.5 pero como es una distribucion normal es mejor elegir un elemento mas representativo en este caso la moda la cual fue de 60 segundos\n",
    "\n",
    "-La poca duracion tiene que investigarse y puede deberse a la version que este utilizando el usuario me refiere a touch referente a dispositovos moviles y a desktop equipos de escritorio"
   ]
  },
  {
   "cell_type": "markdown",
   "metadata": {},
   "source": [
    "### ¿Con qué frecuencia los usuarios regresan? "
   ]
  },
  {
   "cell_type": "code",
   "execution_count": 92,
   "metadata": {},
   "outputs": [
    {
     "name": "stdout",
     "output_type": "stream",
     "text": [
      "uid    15.884409\n",
      "dtype: float64\n",
      "uid    3.90897\n",
      "dtype: float64\n"
     ]
    }
   ],
   "source": [
    "sticky_wau = dau_total/wau_total * 100\n",
    "sticky_mau = dau_total/mau_total * 100\n",
    "\n",
    "print(sticky_wau)\n",
    "print(sticky_mau)"
   ]
  },
  {
   "cell_type": "markdown",
   "metadata": {},
   "source": [
    "-Semanalmente solo un 15.8% de usuarios regresan a al sitio web\n",
    "\n",
    "-Mensualmente solo un 3.9% de usuarios regresan a al sitio web\n",
    "\n",
    "-Esto nos indica que puede haber problemas con el sitio web, un diseño poco intuitivo, problemas para pagar, para iniciar sesion o que el diseño para los despositivos moviles(touch) no sea responsive."
   ]
  },
  {
   "cell_type": "markdown",
   "metadata": {},
   "source": [
    "## Ventas"
   ]
  },
  {
   "cell_type": "markdown",
   "metadata": {},
   "source": [
    "### ¿Cuándo empieza la gente a comprar? "
   ]
  },
  {
   "cell_type": "code",
   "execution_count": 93,
   "metadata": {},
   "outputs": [
    {
     "name": "stdout",
     "output_type": "stream",
     "text": [
      "228169\n"
     ]
    }
   ],
   "source": [
    "print(df_visits['uid'].nunique())"
   ]
  },
  {
   "cell_type": "code",
   "execution_count": 94,
   "metadata": {},
   "outputs": [
    {
     "name": "stdout",
     "output_type": "stream",
     "text": [
      "36523\n"
     ]
    }
   ],
   "source": [
    "print(df_orders['uid'].nunique())"
   ]
  },
  {
   "cell_type": "code",
   "execution_count": 95,
   "metadata": {},
   "outputs": [
    {
     "name": "stdout",
     "output_type": "stream",
     "text": [
      "uid\n",
      "11863502262781         2018-03-01 17:27:00\n",
      "49537067089222         2018-02-06 15:55:00\n",
      "297729379853735        2017-06-07 18:47:00\n",
      "313578113262317        2017-09-18 22:49:00\n",
      "325320750514679        2017-09-30 14:29:00\n",
      "                               ...        \n",
      "18446403737806311543   2017-11-30 03:36:00\n",
      "18446424184725333426   2017-12-06 20:32:00\n",
      "18446556406699109058   2018-01-01 16:29:00\n",
      "18446621818809592527   2017-12-27 13:27:00\n",
      "18446676030785672386   2017-10-04 16:01:00\n",
      "Name: first_visit, Length: 228169, dtype: datetime64[ns]\n"
     ]
    }
   ],
   "source": [
    "first_visit = df_visits.groupby('uid')['start_ts'].min()\n",
    "first_visit.name='first_visit'\n",
    "print(first_visit)"
   ]
  },
  {
   "cell_type": "code",
   "execution_count": 96,
   "metadata": {},
   "outputs": [
    {
     "name": "stdout",
     "output_type": "stream",
     "text": [
      "    device              end_ts  source_id            start_ts  \\\n",
      "0    touch 2017-12-20 17:38:00          4 2017-12-20 17:20:00   \n",
      "1  desktop 2018-02-19 17:21:00          2 2018-02-19 16:53:00   \n",
      "2    touch 2017-07-01 01:54:00          5 2017-07-01 01:54:00   \n",
      "3  desktop 2018-05-20 11:23:00          9 2018-05-20 10:59:00   \n",
      "4  desktop 2017-12-27 14:06:00          3 2017-12-27 14:06:00   \n",
      "\n",
      "                    uid  visit_week  visit_month  visit_year  visit_date  \\\n",
      "0  16879256277535980062          51           12        2017  2017-12-20   \n",
      "1    104060357244891740           8            2        2018  2018-02-19   \n",
      "2   7459035603376831527          26            7        2017  2017-07-01   \n",
      "3  16174680259334210214          20            5        2018  2018-05-20   \n",
      "4   9969694820036681168          52           12        2017  2017-12-27   \n",
      "\n",
      "   session_duration_seg         first_visit  \n",
      "0                  1080 2017-12-20 17:20:00  \n",
      "1                  1680 2018-02-19 16:53:00  \n",
      "2                     0 2017-07-01 01:54:00  \n",
      "3                  1440 2018-03-09 20:05:00  \n",
      "4                     0 2017-12-27 14:06:00  \n"
     ]
    }
   ],
   "source": [
    "df_visits = df_visits.join(first_visit, on='uid')\n",
    "print(df_visits.head())"
   ]
  },
  {
   "cell_type": "code",
   "execution_count": 97,
   "metadata": {},
   "outputs": [
    {
     "name": "stdout",
     "output_type": "stream",
     "text": [
      "uid\n",
      "313578113262317    2018-01-03 21:51:00\n",
      "1575281904278712   2017-06-03 10:13:00\n",
      "2429014661409475   2017-10-11 18:33:00\n",
      "2464366381792757   2018-01-28 15:54:00\n",
      "2551852515556206   2017-11-24 10:14:00\n",
      "Name: first_order, dtype: datetime64[ns]\n"
     ]
    }
   ],
   "source": [
    "first_order = df_orders.groupby('uid')['buy_ts'].min()\n",
    "first_order.name='first_order'\n",
    "print(first_order.head())"
   ]
  },
  {
   "cell_type": "code",
   "execution_count": 98,
   "metadata": {},
   "outputs": [
    {
     "name": "stdout",
     "output_type": "stream",
     "text": [
      "               buy_ts  revenue                   uid         first_order\n",
      "0 2017-06-01 00:10:00    17.00  10329302124590727494 2017-06-01 00:10:00\n",
      "1 2017-06-01 00:25:00     0.55  11627257723692907447 2017-06-01 00:25:00\n",
      "2 2017-06-01 00:27:00     0.37  17903680561304213844 2017-06-01 00:27:00\n",
      "3 2017-06-01 00:29:00     0.55  16109239769442553005 2017-06-01 00:29:00\n",
      "4 2017-06-01 07:58:00     0.37  14200605875248379450 2017-06-01 07:58:00\n"
     ]
    }
   ],
   "source": [
    "df_orders = df_orders.join(first_order,on='uid')\n",
    "print(df_orders.head())"
   ]
  },
  {
   "cell_type": "code",
   "execution_count": 99,
   "metadata": {},
   "outputs": [
    {
     "name": "stdout",
     "output_type": "stream",
     "text": [
      "    device              end_ts  source_id            start_ts  \\\n",
      "0  desktop 2018-05-20 11:23:00          9 2018-05-20 10:59:00   \n",
      "1  desktop 2018-03-09 20:33:00          4 2018-03-09 20:05:00   \n",
      "2  desktop 2017-09-03 21:36:00          5 2017-09-03 21:35:00   \n",
      "3  desktop 2017-09-03 21:36:00          5 2017-09-03 21:35:00   \n",
      "4  desktop 2017-09-03 21:36:00          5 2017-09-03 21:35:00   \n",
      "\n",
      "                    uid  visit_week  visit_month  visit_year  visit_date  \\\n",
      "0  16174680259334210214          20            5        2018  2018-05-20   \n",
      "1  16174680259334210214          10            3        2018  2018-03-09   \n",
      "2  16007536194108375387          35            9        2017  2017-09-03   \n",
      "3  16007536194108375387          35            9        2017  2017-09-03   \n",
      "4  16007536194108375387          35            9        2017  2017-09-03   \n",
      "\n",
      "   session_duration_seg         first_visit              buy_ts  revenue  \\\n",
      "0                  1440 2018-03-09 20:05:00 2018-03-09 20:25:00     2.33   \n",
      "1                  1680 2018-03-09 20:05:00 2018-03-09 20:25:00     2.33   \n",
      "2                    60 2017-09-03 21:35:00 2017-09-04 12:46:00     2.44   \n",
      "3                    60 2017-09-03 21:35:00 2017-10-28 00:01:00     1.53   \n",
      "4                    60 2017-09-03 21:35:00 2017-10-28 19:16:00     1.53   \n",
      "\n",
      "          first_order  \n",
      "0 2018-03-09 20:25:00  \n",
      "1 2018-03-09 20:25:00  \n",
      "2 2017-09-04 12:46:00  \n",
      "3 2017-09-04 12:46:00  \n",
      "4 2017-09-04 12:46:00  \n"
     ]
    }
   ],
   "source": [
    "df_con = df_visits.merge(df_orders,on='uid')\n",
    "\n",
    "print(df_con.head())"
   ]
  },
  {
   "cell_type": "code",
   "execution_count": 100,
   "metadata": {},
   "outputs": [
    {
     "name": "stdout",
     "output_type": "stream",
     "text": [
      "         device              end_ts  source_id            start_ts  \\\n",
      "0       desktop 2018-05-20 11:23:00          9 2018-05-20 10:59:00   \n",
      "1       desktop 2018-03-09 20:33:00          4 2018-03-09 20:05:00   \n",
      "2       desktop 2017-09-03 21:36:00          5 2017-09-03 21:35:00   \n",
      "3       desktop 2017-09-03 21:36:00          5 2017-09-03 21:35:00   \n",
      "4       desktop 2017-09-03 21:36:00          5 2017-09-03 21:35:00   \n",
      "...         ...                 ...        ...                 ...   \n",
      "761802  desktop 2017-12-04 12:50:00          3 2017-12-04 12:42:00   \n",
      "761803  desktop 2017-11-20 23:44:00          4 2017-11-20 23:33:00   \n",
      "761804    touch 2017-11-29 20:48:00          4 2017-11-29 20:27:00   \n",
      "761805  desktop 2018-04-23 21:19:00         10 2018-04-23 21:11:00   \n",
      "761806  desktop 2017-07-31 12:31:00          3 2017-07-31 12:13:00   \n",
      "\n",
      "                         uid  visit_week  visit_month  visit_year  visit_date  \\\n",
      "0       16174680259334210214          20            5        2018  2018-05-20   \n",
      "1       16174680259334210214          10            3        2018  2018-03-09   \n",
      "2       16007536194108375387          35            9        2017  2017-09-03   \n",
      "3       16007536194108375387          35            9        2017  2017-09-03   \n",
      "4       16007536194108375387          35            9        2017  2017-09-03   \n",
      "...                      ...         ...          ...         ...         ...   \n",
      "761802   6752020629696526518          49           12        2017  2017-12-04   \n",
      "761803  11750532881998794555          47           11        2017  2017-11-20   \n",
      "761804  11202626539189016002          48           11        2017  2017-11-29   \n",
      "761805  12734910664455613822          17            4        2018  2018-04-23   \n",
      "761806  11102751930812818282          31            7        2017  2017-07-31   \n",
      "\n",
      "        session_duration_seg         first_visit              buy_ts  revenue  \\\n",
      "0                       1440 2018-03-09 20:05:00 2018-03-09 20:25:00     2.33   \n",
      "1                       1680 2018-03-09 20:05:00 2018-03-09 20:25:00     2.33   \n",
      "2                         60 2017-09-03 21:35:00 2017-09-04 12:46:00     2.44   \n",
      "3                         60 2017-09-03 21:35:00 2017-10-28 00:01:00     1.53   \n",
      "4                         60 2017-09-03 21:35:00 2017-10-28 19:16:00     1.53   \n",
      "...                      ...                 ...                 ...      ...   \n",
      "761802                   480 2017-12-04 12:42:00 2017-12-04 12:46:00     4.15   \n",
      "761803                   660 2017-11-20 23:33:00 2017-11-20 23:43:00     3.67   \n",
      "761804                  1260 2017-11-29 20:27:00 2017-11-29 20:33:00     3.05   \n",
      "761805                   480 2018-04-23 21:11:00 2018-04-23 21:16:00     0.49   \n",
      "761806                  1080 2017-07-31 12:13:00 2017-07-31 12:27:00     2.44   \n",
      "\n",
      "               first_order first_visit_d first_order_d  \n",
      "0      2018-03-09 20:25:00    2018-03-09    2018-03-09  \n",
      "1      2018-03-09 20:25:00    2018-03-09    2018-03-09  \n",
      "2      2017-09-04 12:46:00    2017-09-03    2017-09-04  \n",
      "3      2017-09-04 12:46:00    2017-09-03    2017-09-04  \n",
      "4      2017-09-04 12:46:00    2017-09-03    2017-09-04  \n",
      "...                    ...           ...           ...  \n",
      "761802 2017-12-04 12:46:00    2017-12-04    2017-12-04  \n",
      "761803 2017-11-20 23:43:00    2017-11-20    2017-11-20  \n",
      "761804 2017-11-29 20:33:00    2017-11-29    2017-11-29  \n",
      "761805 2018-04-23 21:16:00    2018-04-23    2018-04-23  \n",
      "761806 2017-07-31 12:27:00    2017-07-31    2017-07-31  \n",
      "\n",
      "[761807 rows x 16 columns]\n"
     ]
    }
   ],
   "source": [
    "df_con['first_visit_d'] = df_con['first_visit'].dt.date\n",
    "df_con['first_order_d'] = df_con['first_order'].dt.date\n",
    "print(df_con)"
   ]
  },
  {
   "cell_type": "code",
   "execution_count": 101,
   "metadata": {},
   "outputs": [
    {
     "name": "stdout",
     "output_type": "stream",
     "text": [
      "         device              end_ts  source_id            start_ts  \\\n",
      "0       desktop 2018-05-20 11:23:00          9 2018-05-20 10:59:00   \n",
      "1       desktop 2018-03-09 20:33:00          4 2018-03-09 20:05:00   \n",
      "2       desktop 2017-09-03 21:36:00          5 2017-09-03 21:35:00   \n",
      "3       desktop 2017-09-03 21:36:00          5 2017-09-03 21:35:00   \n",
      "4       desktop 2017-09-03 21:36:00          5 2017-09-03 21:35:00   \n",
      "...         ...                 ...        ...                 ...   \n",
      "761802  desktop 2017-12-04 12:50:00          3 2017-12-04 12:42:00   \n",
      "761803  desktop 2017-11-20 23:44:00          4 2017-11-20 23:33:00   \n",
      "761804    touch 2017-11-29 20:48:00          4 2017-11-29 20:27:00   \n",
      "761805  desktop 2018-04-23 21:19:00         10 2018-04-23 21:11:00   \n",
      "761806  desktop 2017-07-31 12:31:00          3 2017-07-31 12:13:00   \n",
      "\n",
      "                         uid  visit_week  visit_month  visit_year  visit_date  \\\n",
      "0       16174680259334210214          20            5        2018  2018-05-20   \n",
      "1       16174680259334210214          10            3        2018  2018-03-09   \n",
      "2       16007536194108375387          35            9        2017  2017-09-03   \n",
      "3       16007536194108375387          35            9        2017  2017-09-03   \n",
      "4       16007536194108375387          35            9        2017  2017-09-03   \n",
      "...                      ...         ...          ...         ...         ...   \n",
      "761802   6752020629696526518          49           12        2017  2017-12-04   \n",
      "761803  11750532881998794555          47           11        2017  2017-11-20   \n",
      "761804  11202626539189016002          48           11        2017  2017-11-29   \n",
      "761805  12734910664455613822          17            4        2018  2018-04-23   \n",
      "761806  11102751930812818282          31            7        2017  2017-07-31   \n",
      "\n",
      "        session_duration_seg         first_visit              buy_ts  revenue  \\\n",
      "0                       1440 2018-03-09 20:05:00 2018-03-09 20:25:00     2.33   \n",
      "1                       1680 2018-03-09 20:05:00 2018-03-09 20:25:00     2.33   \n",
      "2                         60 2017-09-03 21:35:00 2017-09-04 12:46:00     2.44   \n",
      "3                         60 2017-09-03 21:35:00 2017-10-28 00:01:00     1.53   \n",
      "4                         60 2017-09-03 21:35:00 2017-10-28 19:16:00     1.53   \n",
      "...                      ...                 ...                 ...      ...   \n",
      "761802                   480 2017-12-04 12:42:00 2017-12-04 12:46:00     4.15   \n",
      "761803                   660 2017-11-20 23:33:00 2017-11-20 23:43:00     3.67   \n",
      "761804                  1260 2017-11-29 20:27:00 2017-11-29 20:33:00     3.05   \n",
      "761805                   480 2018-04-23 21:11:00 2018-04-23 21:16:00     0.49   \n",
      "761806                  1080 2017-07-31 12:13:00 2017-07-31 12:27:00     2.44   \n",
      "\n",
      "               first_order first_visit_d first_order_d convertion_d  \n",
      "0      2018-03-09 20:25:00    2018-03-09    2018-03-09       0 days  \n",
      "1      2018-03-09 20:25:00    2018-03-09    2018-03-09       0 days  \n",
      "2      2017-09-04 12:46:00    2017-09-03    2017-09-04       1 days  \n",
      "3      2017-09-04 12:46:00    2017-09-03    2017-09-04       1 days  \n",
      "4      2017-09-04 12:46:00    2017-09-03    2017-09-04       1 days  \n",
      "...                    ...           ...           ...          ...  \n",
      "761802 2017-12-04 12:46:00    2017-12-04    2017-12-04       0 days  \n",
      "761803 2017-11-20 23:43:00    2017-11-20    2017-11-20       0 days  \n",
      "761804 2017-11-29 20:33:00    2017-11-29    2017-11-29       0 days  \n",
      "761805 2018-04-23 21:16:00    2018-04-23    2018-04-23       0 days  \n",
      "761806 2017-07-31 12:27:00    2017-07-31    2017-07-31       0 days  \n",
      "\n",
      "[761807 rows x 17 columns]\n"
     ]
    }
   ],
   "source": [
    "df_con['convertion_d'] = df_con['first_order_d'] - df_con['first_visit_d']\n",
    "\n",
    "print(df_con)"
   ]
  },
  {
   "cell_type": "code",
   "execution_count": 102,
   "metadata": {},
   "outputs": [
    {
     "name": "stdout",
     "output_type": "stream",
     "text": [
      "      source_id convertion_d  n_users  n_con\n",
      "0             1       0 days     3794  71880\n",
      "1             1       1 days      619   8998\n",
      "2             1       2 days      214  20190\n",
      "3             1       3 days      126   1701\n",
      "4             1       4 days      106  70154\n",
      "...         ...          ...      ...    ...\n",
      "2043         10     344 days        1      2\n",
      "2044         10     348 days        1      1\n",
      "2045         10     349 days        1      1\n",
      "2046         10     353 days        1      1\n",
      "2047         10     357 days        2      5\n",
      "\n",
      "[2048 rows x 4 columns]\n"
     ]
    }
   ],
   "source": [
    "conver = df_con.groupby(['source_id','convertion_d']).agg(n_users=('uid','nunique'),n_con=('convertion_d','count')).reset_index()\n",
    "print(conver)"
   ]
  },
  {
   "cell_type": "code",
   "execution_count": 103,
   "metadata": {},
   "outputs": [
    {
     "data": {
      "text/plain": [
       "count                          2048\n",
       "mean       155 days 17:34:41.250000\n",
       "std      96 days 15:55:26.135340312\n",
       "min                 0 days 00:00:00\n",
       "25%                73 days 00:00:00\n",
       "50%               150 days 00:00:00\n",
       "75%               231 days 00:00:00\n",
       "max               363 days 00:00:00\n",
       "Name: convertion_d, dtype: object"
      ]
     },
     "execution_count": 103,
     "metadata": {},
     "output_type": "execute_result"
    }
   ],
   "source": [
    "conver['convertion_d'].describe()"
   ]
  },
  {
   "cell_type": "code",
   "execution_count": 104,
   "metadata": {},
   "outputs": [
    {
     "name": "stdout",
     "output_type": "stream",
     "text": [
      "   source_id  convertion_d\n",
      "0          1        248662\n",
      "1          2        238297\n",
      "2          3         46766\n",
      "3          4         62683\n",
      "4          5        151824\n",
      "5          7             1\n",
      "6          9          9547\n",
      "7         10          4027\n"
     ]
    }
   ],
   "source": [
    "conver_so = df_con.groupby(['source_id']).agg({'convertion_d':'count'}).reset_index()\n",
    "print(conver_so)"
   ]
  },
  {
   "cell_type": "code",
   "execution_count": 105,
   "metadata": {},
   "outputs": [
    {
     "data": {
      "image/png": "[encoded data removed]",
      "text/plain": [
       "<Figure size 640x480 with 1 Axes>"
      ]
     },
     "metadata": {},
     "output_type": "display_data"
    }
   ],
   "source": [
    "conver_so.plot(kind='bar',x='source_id',y='convertion_d',legend=False)\n",
    "plt.title('Conversion por fuente de anuncios')\n",
    "plt.xlabel('Codigo de fuente de anuncio')\n",
    "plt.ylabel('cantididad de usuarios que copraron')\n",
    "plt.show()"
   ]
  },
  {
   "cell_type": "markdown",
   "metadata": {},
   "source": [
    "-La conversion de los usuarios en dias va desde los 0 a los 363 es decir que hay personas que comprar algo el mismo dia y \n",
    "como maximo se han demorado 363 dias en comprar algo\n",
    "\n",
    "-Las fuentes de anuncio con mas conversion es la 1 y la mas baja la 7 hay que verificar las fuentes que estan dando poco \n",
    "rendimiento en el caso de que este mal promocionado los servicios o productos del sitio o que estos medios esten ya obsoletos."
   ]
  },
  {
   "cell_type": "markdown",
   "metadata": {},
   "source": [
    "### ¿Cuántos pedidos hacen durante un período de tiempo dado? "
   ]
  },
  {
   "cell_type": "code",
   "execution_count": 106,
   "metadata": {},
   "outputs": [
    {
     "name": "stdout",
     "output_type": "stream",
     "text": [
      "   first_order_m   uid\n",
      "0     2017-06-01  4438\n",
      "1     2017-07-01  2910\n",
      "2     2017-08-01  2188\n",
      "3     2017-09-01  3878\n",
      "4     2017-10-01  6005\n",
      "5     2017-11-01  5900\n",
      "6     2017-12-01  5894\n",
      "7     2018-01-01  4308\n",
      "8     2018-02-01  4470\n",
      "9     2018-03-01  4484\n",
      "10    2018-04-01  2690\n",
      "11    2018-05-01  3249\n",
      "12    2018-06-01     1\n"
     ]
    }
   ],
   "source": [
    "#al no contar con id de pedido para verificar cuantos se hacen conte la cantidad de usuarios en un tiempo especifico en este\n",
    "#caso en un mes\n",
    "df_orders['first_order_m'] = df_orders['first_order'].astype('datetime64[M]')\n",
    "df_orders['order_m'] = df_orders['buy_ts'].astype('datetime64[M]')\n",
    "\n",
    "\n",
    "cohort_pedidos = df_orders.groupby('first_order_m').agg({'uid':'count'}).reset_index()\n",
    "\n",
    "print(cohort_pedidos)"
   ]
  },
  {
   "cell_type": "code",
   "execution_count": 107,
   "metadata": {},
   "outputs": [
    {
     "data": {
      "image/png": "[encoded data removed]",
      "text/plain": [
       "<Figure size 640x480 with 1 Axes>"
      ]
     },
     "metadata": {},
     "output_type": "display_data"
    }
   ],
   "source": [
    "cohort_pedidos.plot(kind='bar',x='first_order_m',y='uid')\n",
    "plt.title('cantidad de pedidos por mes')\n",
    "plt.xlabel('compras por mes')\n",
    "plt.ylabel('Cantidad de pedidos')\n",
    "plt.show()"
   ]
  },
  {
   "cell_type": "markdown",
   "metadata": {},
   "source": [
    "-La cantidad de pedidos a partir de Junio del 2017 que es el primero mes de registros tendio a bajar hasta Septiembre siendo en Octubre un alza y tubo un pequeña disminucion para Nombiembre y Diciembre del mismo año \n",
    "\n",
    "-En Enero empezo con un monto parecido en pedidos a los del 2018 y para los meses de Febrero y Marzo tubo un pequeño crecimiento en pedidos Abril tubo casi la mitad de ventas que Abril y en Mayo se recupero un poco el mes de Junio para año 2018 no se presentan muchos registros por lo que no se puede cocluir algo por el momento\n",
    "\n",
    "-Hay que verificar por que Octubre, Noviembre y Diciembre fueron los meses con mas ventas puede ser debido a algunas celebracion o debido a que gran parte de las personas toman vacaciones"
   ]
  },
  {
   "cell_type": "markdown",
   "metadata": {},
   "source": [
    "### ¿Cuál es el tamaño promedio de compra?"
   ]
  },
  {
   "cell_type": "code",
   "execution_count": 108,
   "metadata": {},
   "outputs": [
    {
     "name": "stdout",
     "output_type": "stream",
     "text": [
      "                   buy_ts  revenue                   uid         first_order  \\\n",
      "0     2017-06-01 00:10:00    17.00  10329302124590727494 2017-06-01 00:10:00   \n",
      "1     2017-06-01 00:25:00     0.55  11627257723692907447 2017-06-01 00:25:00   \n",
      "2     2017-06-01 00:27:00     0.37  17903680561304213844 2017-06-01 00:27:00   \n",
      "3     2017-06-01 00:29:00     0.55  16109239769442553005 2017-06-01 00:29:00   \n",
      "4     2017-06-01 07:58:00     0.37  14200605875248379450 2017-06-01 07:58:00   \n",
      "...                   ...      ...                   ...                 ...   \n",
      "50410 2018-05-31 23:50:00     4.64  12296626599487328624 2018-05-31 23:50:00   \n",
      "50411 2018-05-31 23:50:00     5.80  11369640365507475976 2018-05-31 23:50:00   \n",
      "50412 2018-05-31 23:54:00     0.30   1786462140797698849 2018-05-31 23:54:00   \n",
      "50413 2018-05-31 23:56:00     3.67   3993697860786194247 2018-05-31 23:56:00   \n",
      "50414 2018-06-01 00:02:00     3.42     83872787173869366 2018-06-01 00:02:00   \n",
      "\n",
      "      first_order_m    order_m  \n",
      "0        2017-06-01 2017-06-01  \n",
      "1        2017-06-01 2017-06-01  \n",
      "2        2017-06-01 2017-06-01  \n",
      "3        2017-06-01 2017-06-01  \n",
      "4        2017-06-01 2017-06-01  \n",
      "...             ...        ...  \n",
      "50410    2018-05-01 2018-05-01  \n",
      "50411    2018-05-01 2018-05-01  \n",
      "50412    2018-05-01 2018-05-01  \n",
      "50413    2018-05-01 2018-05-01  \n",
      "50414    2018-06-01 2018-06-01  \n",
      "\n",
      "[50415 rows x 6 columns]\n"
     ]
    }
   ],
   "source": [
    "print(df_orders)\n"
   ]
  },
  {
   "cell_type": "code",
   "execution_count": 109,
   "metadata": {},
   "outputs": [
    {
     "name": "stdout",
     "output_type": "stream",
     "text": [
      "   first_order_m    order_m   revenue   uid\n",
      "0     2017-06-01 2017-06-01   9557.49  2023\n",
      "1     2017-06-01 2017-07-01    981.82    61\n",
      "2     2017-06-01 2017-08-01    885.34    50\n",
      "3     2017-06-01 2017-09-01   1931.30    54\n",
      "4     2017-06-01 2017-10-01   2068.58    88\n",
      "..           ...        ...       ...   ...\n",
      "74    2018-03-01 2018-05-01   1114.87    58\n",
      "75    2018-04-01 2018-04-01  10600.69  2276\n",
      "76    2018-04-01 2018-05-01   1209.92    69\n",
      "77    2018-05-01 2018-05-01  13925.76  2988\n",
      "78    2018-06-01 2018-06-01      3.42     1\n",
      "\n",
      "[79 rows x 4 columns]\n"
     ]
    }
   ],
   "source": [
    "cohort_promedio = df_orders.groupby(['first_order_m','order_m']).agg({'revenue':'sum','uid':'nunique'}).reset_index()\n",
    "\n",
    "print(cohort_promedio)"
   ]
  },
  {
   "cell_type": "code",
   "execution_count": 110,
   "metadata": {},
   "outputs": [
    {
     "name": "stdout",
     "output_type": "stream",
     "text": [
      "   first_order_m    order_m   revenue   uid  reve_per_user  cohort_life\n",
      "0     2017-06-01 2017-06-01   9557.49  2023       4.724414            0\n",
      "1     2017-06-01 2017-07-01    981.82    61      16.095410            1\n",
      "2     2017-06-01 2017-08-01    885.34    50      17.706800            2\n",
      "3     2017-06-01 2017-09-01   1931.30    54      35.764815            3\n",
      "4     2017-06-01 2017-10-01   2068.58    88      23.506591            4\n",
      "..           ...        ...       ...   ...            ...          ...\n",
      "74    2018-03-01 2018-05-01   1114.87    58      19.221897            2\n",
      "75    2018-04-01 2018-04-01  10600.69  2276       4.657597            0\n",
      "76    2018-04-01 2018-05-01   1209.92    69      17.535072            1\n",
      "77    2018-05-01 2018-05-01  13925.76  2988       4.660562            0\n",
      "78    2018-06-01 2018-06-01      3.42     1       3.420000            0\n",
      "\n",
      "[79 rows x 6 columns]\n"
     ]
    }
   ],
   "source": [
    "cohort_promedio['reve_per_user'] = cohort_promedio['revenue']/cohort_promedio['uid']\n",
    "cohort_promedio['cohort_life'] = cohort_promedio['order_m'] - cohort_promedio['first_order_m']\n",
    "cohort_promedio['cohort_life'] = cohort_promedio['cohort_life'] /np.timedelta64(1, 'M')\n",
    "cohort_promedio['cohort_life'] = cohort_promedio['cohort_life'].round().astype('int') \n",
    "print(cohort_promedio)"
   ]
  },
  {
   "cell_type": "code",
   "execution_count": 111,
   "metadata": {},
   "outputs": [
    {
     "name": "stdout",
     "output_type": "stream",
     "text": [
      "cohort_life          0          1          2           3          4   \\\n",
      "first_order_m                                                          \n",
      "2017-06-01     4.724414  16.095410  17.706800   35.764815  23.506591   \n",
      "2017-07-01     6.010218  12.396346  21.035965   10.786094   6.938163   \n",
      "2017-08-01     5.276518  11.148793  11.851321   12.182955  16.921250   \n",
      "2017-09-01     5.644529  22.188385  13.445200  138.669189  19.881538   \n",
      "2017-10-01     5.003733  11.287427   6.753252    7.413152   7.072796   \n",
      "2017-11-01     5.154683   7.339054   6.786583   12.510660   7.457284   \n",
      "2017-12-01     4.738191   7.816575  39.366019   48.135052  27.431400   \n",
      "2018-01-01     4.135636   8.721228  12.365542   11.199767   4.699556   \n",
      "2018-02-01     4.156987   8.610000   4.942414    6.941026        NaN   \n",
      "2018-03-01     4.838803  11.811667  19.221897         NaN        NaN   \n",
      "2018-04-01     4.657597  17.535072        NaN         NaN        NaN   \n",
      "2018-05-01     4.660562        NaN        NaN         NaN        NaN   \n",
      "2018-06-01     3.420000        NaN        NaN         NaN        NaN   \n",
      "\n",
      "cohort_life           5          6          7          8          9   \\\n",
      "first_order_m                                                          \n",
      "2017-06-01     22.207761  31.011935  25.033191  19.295690  27.233556   \n",
      "2017-07-01      7.896842   6.421111   6.992821   7.382143  12.861818   \n",
      "2017-08-01     12.139063   9.620333  12.610455  21.070000   8.307419   \n",
      "2017-09-01     26.095000  27.437121  16.961351  11.044651        NaN   \n",
      "2017-10-01      7.255139   6.573214   7.479701        NaN        NaN   \n",
      "2017-11-01      4.580833   7.564839        NaN        NaN        NaN   \n",
      "2017-12-01     23.518413        NaN        NaN        NaN        NaN   \n",
      "2018-01-01           NaN        NaN        NaN        NaN        NaN   \n",
      "2018-02-01           NaN        NaN        NaN        NaN        NaN   \n",
      "2018-03-01           NaN        NaN        NaN        NaN        NaN   \n",
      "2018-04-01           NaN        NaN        NaN        NaN        NaN   \n",
      "2018-05-01           NaN        NaN        NaN        NaN        NaN   \n",
      "2018-06-01           NaN        NaN        NaN        NaN        NaN   \n",
      "\n",
      "cohort_life           10        11  \n",
      "first_order_m                       \n",
      "2017-06-01     25.681333  9.804151  \n",
      "2017-07-01     11.513846       NaN  \n",
      "2017-08-01           NaN       NaN  \n",
      "2017-09-01           NaN       NaN  \n",
      "2017-10-01           NaN       NaN  \n",
      "2017-11-01           NaN       NaN  \n",
      "2017-12-01           NaN       NaN  \n",
      "2018-01-01           NaN       NaN  \n",
      "2018-02-01           NaN       NaN  \n",
      "2018-03-01           NaN       NaN  \n",
      "2018-04-01           NaN       NaN  \n",
      "2018-05-01           NaN       NaN  \n",
      "2018-06-01           NaN       NaN  \n"
     ]
    }
   ],
   "source": [
    "mean = cohort_promedio.pivot_table(index='first_order_m',columns='cohort_life',values='reve_per_user',aggfunc='mean')\n",
    "print(mean)"
   ]
  },
  {
   "cell_type": "code",
   "execution_count": 112,
   "metadata": {},
   "outputs": [
    {
     "data": {
      "image/png": "[encoded data removed]",
      "text/plain": [
       "<Figure size 1300x900 with 2 Axes>"
      ]
     },
     "metadata": {},
     "output_type": "display_data"
    }
   ],
   "source": [
    "plt.figure(figsize=(13, 9))\n",
    "plt.title('Tamaño promedio de compra del cliente')\n",
    "sns.heatmap(\n",
    "    mean,\n",
    "    annot=True,\n",
    "    fmt='.1f',\n",
    "    linewidths=1,\n",
    "    linecolor='gray'\n",
    ")\n",
    "plt.show()"
   ]
  },
  {
   "cell_type": "markdown",
   "metadata": {},
   "source": [
    "-El ingreso en general en todos los cohortos crecio como se puede ver a medida que avanzo el ciclo de vida de este\n",
    "\n",
    "-Se tiene que investigar el promedio de venta para el mes de noviembre el cual es mayor a todos los demas"
   ]
  },
  {
   "cell_type": "markdown",
   "metadata": {},
   "source": [
    "###  ¿Cuánto dinero traen? (LTV) "
   ]
  },
  {
   "cell_type": "code",
   "execution_count": 113,
   "metadata": {},
   "outputs": [
    {
     "name": "stdout",
     "output_type": "stream",
     "text": [
      "uid\n",
      "313578113262317          0.55\n",
      "1575281904278712         3.05\n",
      "2429014661409475        73.33\n",
      "2464366381792757         2.44\n",
      "2551852515556206        10.99\n",
      "                        ...  \n",
      "18445147675727495770     3.05\n",
      "18445407535914413204     0.88\n",
      "18445601152732270159     4.22\n",
      "18446156210226471712     9.78\n",
      "18446167067214817906     7.94\n",
      "Name: revenue, Length: 36523, dtype: float64\n",
      "252057.19999999998\n"
     ]
    }
   ],
   "source": [
    "print(df_orders.groupby('uid')['revenue'].sum())\n",
    "print(df_orders['revenue'].sum())"
   ]
  },
  {
   "cell_type": "code",
   "execution_count": 114,
   "metadata": {},
   "outputs": [
    {
     "name": "stdout",
     "output_type": "stream",
     "text": [
      "   first_order_m   uid\n",
      "0     2017-06-01  2023\n",
      "1     2017-07-01  1923\n",
      "2     2017-08-01  1370\n",
      "3     2017-09-01  2581\n",
      "4     2017-10-01  4340\n",
      "5     2017-11-01  4081\n",
      "6     2017-12-01  4383\n",
      "7     2018-01-01  3373\n",
      "8     2018-02-01  3651\n",
      "9     2018-03-01  3533\n",
      "10    2018-04-01  2276\n",
      "11    2018-05-01  2988\n",
      "12    2018-06-01     1\n"
     ]
    }
   ],
   "source": [
    "size = df_orders.groupby('first_order_m').agg({'uid':'nunique'}).reset_index()\n",
    "print(size)"
   ]
  },
  {
   "cell_type": "code",
   "execution_count": 115,
   "metadata": {},
   "outputs": [
    {
     "name": "stdout",
     "output_type": "stream",
     "text": [
      "   first_order_m  n_usr\n",
      "0     2017-06-01   2023\n",
      "1     2017-07-01   1923\n",
      "2     2017-08-01   1370\n",
      "3     2017-09-01   2581\n",
      "4     2017-10-01   4340\n",
      "5     2017-11-01   4081\n",
      "6     2017-12-01   4383\n",
      "7     2018-01-01   3373\n",
      "8     2018-02-01   3651\n",
      "9     2018-03-01   3533\n",
      "10    2018-04-01   2276\n",
      "11    2018-05-01   2988\n",
      "12    2018-06-01      1\n"
     ]
    }
   ],
   "source": [
    "size.columns = ['first_order_m','n_usr']\n",
    "print(size)"
   ]
  },
  {
   "cell_type": "code",
   "execution_count": 118,
   "metadata": {},
   "outputs": [
    {
     "name": "stdout",
     "output_type": "stream",
     "text": [
      "   first_order_m    order_m   revenue\n",
      "0     2017-06-01 2017-06-01   9557.49\n",
      "1     2017-06-01 2017-07-01    981.82\n",
      "2     2017-06-01 2017-08-01    885.34\n",
      "3     2017-06-01 2017-09-01   1931.30\n",
      "4     2017-06-01 2017-10-01   2068.58\n",
      "..           ...        ...       ...\n",
      "74    2018-03-01 2018-05-01   1114.87\n",
      "75    2018-04-01 2018-04-01  10600.69\n",
      "76    2018-04-01 2018-05-01   1209.92\n",
      "77    2018-05-01 2018-05-01  13925.76\n",
      "78    2018-06-01 2018-06-01      3.42\n",
      "\n",
      "[79 rows x 3 columns]\n"
     ]
    }
   ],
   "source": [
    "cohort_order_ltv = df_orders.groupby(['first_order_m','order_m']).agg({'revenue':'sum'}).reset_index()\n",
    "print(cohort_order_ltv)"
   ]
  },
  {
   "cell_type": "code",
   "execution_count": 119,
   "metadata": {},
   "outputs": [
    {
     "name": "stdout",
     "output_type": "stream",
     "text": [
      "   first_order_m  n_usr    order_m   revenue\n",
      "0     2017-06-01   2023 2017-06-01   9557.49\n",
      "1     2017-06-01   2023 2017-07-01    981.82\n",
      "2     2017-06-01   2023 2017-08-01    885.34\n",
      "3     2017-06-01   2023 2017-09-01   1931.30\n",
      "4     2017-06-01   2023 2017-10-01   2068.58\n",
      "..           ...    ...        ...       ...\n",
      "74    2018-03-01   3533 2018-05-01   1114.87\n",
      "75    2018-04-01   2276 2018-04-01  10600.69\n",
      "76    2018-04-01   2276 2018-05-01   1209.92\n",
      "77    2018-05-01   2988 2018-05-01  13925.76\n",
      "78    2018-06-01      1 2018-06-01      3.42\n",
      "\n",
      "[79 rows x 4 columns]\n"
     ]
    }
   ],
   "source": [
    "report = pd.merge(size,cohort_order_ltv,on='first_order_m')\n",
    "print(report)"
   ]
  },
  {
   "cell_type": "code",
   "execution_count": 120,
   "metadata": {},
   "outputs": [
    {
     "name": "stdout",
     "output_type": "stream",
     "text": [
      "   first_order_m  n_usr    order_m   revenue        gp  age\n",
      "0     2017-06-01   2023 2017-06-01   9557.49  4778.745    0\n",
      "1     2017-06-01   2023 2017-07-01    981.82   490.910    1\n",
      "2     2017-06-01   2023 2017-08-01    885.34   442.670    2\n",
      "3     2017-06-01   2023 2017-09-01   1931.30   965.650    3\n",
      "4     2017-06-01   2023 2017-10-01   2068.58  1034.290    4\n",
      "..           ...    ...        ...       ...       ...  ...\n",
      "74    2018-03-01   3533 2018-05-01   1114.87   557.435    2\n",
      "75    2018-04-01   2276 2018-04-01  10600.69  5300.345    0\n",
      "76    2018-04-01   2276 2018-05-01   1209.92   604.960    1\n",
      "77    2018-05-01   2988 2018-05-01  13925.76  6962.880    0\n",
      "78    2018-06-01      1 2018-06-01      3.42     1.710    0\n",
      "\n",
      "[79 rows x 6 columns]\n"
     ]
    }
   ],
   "source": [
    "margin = 0.5\n",
    "\n",
    "report['gp'] = report['revenue'] * margin\n",
    "report['age'] = (report['order_m'] - report['first_order_m'])/np.timedelta64(1, 'M')\n",
    "report['age'] = report['age'].round().astype('int')\n",
    "print(report)"
   ]
  },
  {
   "cell_type": "code",
   "execution_count": 121,
   "metadata": {},
   "outputs": [
    {
     "name": "stdout",
     "output_type": "stream",
     "text": [
      "   first_order_m  n_usr    order_m   revenue        gp  age       ltv\n",
      "0     2017-06-01   2023 2017-06-01   9557.49  4778.745    0  2.362207\n",
      "1     2017-06-01   2023 2017-07-01    981.82   490.910    1  0.242664\n",
      "2     2017-06-01   2023 2017-08-01    885.34   442.670    2  0.218819\n",
      "3     2017-06-01   2023 2017-09-01   1931.30   965.650    3  0.477336\n",
      "4     2017-06-01   2023 2017-10-01   2068.58  1034.290    4  0.511265\n",
      "..           ...    ...        ...       ...       ...  ...       ...\n",
      "74    2018-03-01   3533 2018-05-01   1114.87   557.435    2  0.157780\n",
      "75    2018-04-01   2276 2018-04-01  10600.69  5300.345    0  2.328798\n",
      "76    2018-04-01   2276 2018-05-01   1209.92   604.960    1  0.265800\n",
      "77    2018-05-01   2988 2018-05-01  13925.76  6962.880    0  2.330281\n",
      "78    2018-06-01      1 2018-06-01      3.42     1.710    0  1.710000\n",
      "\n",
      "[79 rows x 7 columns]\n",
      "age                  0         1         2         3         4         5   \\\n",
      "first_order_m                                                               \n",
      "2017-06-01     2.362207  0.242664  0.218819  0.477336  0.511265  0.367751   \n",
      "2017-07-01     3.005109  0.167605  0.311765  0.179488  0.088396  0.078024   \n",
      "2017-08-01     2.638259  0.235996  0.229241  0.195639  0.247026  0.141770   \n",
      "2017-09-01     2.822265  0.558793  0.260465  1.987896  0.200279  0.323534   \n",
      "2017-10-01     2.501866  0.267881  0.095697  0.078573  0.075780  0.060181   \n",
      "2017-11-01     2.577341  0.199617  0.099778  0.162476  0.074006  0.026939   \n",
      "2017-12-01     2.369095  0.130187  0.462548  0.532637  0.156465  0.169023   \n",
      "2018-01-01     2.067818  0.147379  0.152141  0.071389  0.031349       NaN   \n",
      "2018-02-01     2.078494  0.139137  0.039258  0.037072       NaN       NaN   \n",
      "2018-03-01     2.419401  0.150446  0.157780       NaN       NaN       NaN   \n",
      "2018-04-01     2.328798  0.265800       NaN       NaN       NaN       NaN   \n",
      "2018-05-01     2.330281       NaN       NaN       NaN       NaN       NaN   \n",
      "2018-06-01     1.710000       NaN       NaN       NaN       NaN       NaN   \n",
      "\n",
      "age                  6         7         8         9         10        11  \n",
      "first_order_m                                                              \n",
      "2017-06-01     0.475220  0.290796  0.276607  0.302894  0.285630  0.128428  \n",
      "2017-07-01     0.060104  0.070910  0.080616  0.073573  0.077837       NaN  \n",
      "2017-08-01     0.105332  0.202504  0.146106  0.093989       NaN       NaN  \n",
      "2017-09-01     0.350804  0.121575  0.092003       NaN       NaN       NaN  \n",
      "2017-10-01     0.042408  0.057735       NaN       NaN       NaN       NaN  \n",
      "2017-11-01     0.057464       NaN       NaN       NaN       NaN       NaN  \n",
      "2017-12-01          NaN       NaN       NaN       NaN       NaN       NaN  \n",
      "2018-01-01          NaN       NaN       NaN       NaN       NaN       NaN  \n",
      "2018-02-01          NaN       NaN       NaN       NaN       NaN       NaN  \n",
      "2018-03-01          NaN       NaN       NaN       NaN       NaN       NaN  \n",
      "2018-04-01          NaN       NaN       NaN       NaN       NaN       NaN  \n",
      "2018-05-01          NaN       NaN       NaN       NaN       NaN       NaN  \n",
      "2018-06-01          NaN       NaN       NaN       NaN       NaN       NaN  \n"
     ]
    }
   ],
   "source": [
    "report['ltv'] = report['gp']/report['n_usr']\n",
    "print(report)\n",
    "ltv=report.pivot_table(index='first_order_m',columns='age',values='ltv',aggfunc='mean')\n",
    "print(ltv)"
   ]
  },
  {
   "cell_type": "code",
   "execution_count": 122,
   "metadata": {},
   "outputs": [
    {
     "name": "stdout",
     "output_type": "stream",
     "text": [
      "5.939616905585761\n"
     ]
    }
   ],
   "source": [
    "ltv20170601 = ltv.loc['2017-06-01'].sum()\n",
    "print(ltv20170601)"
   ]
  },
  {
   "cell_type": "code",
   "execution_count": 123,
   "metadata": {},
   "outputs": [
    {
     "name": "stdout",
     "output_type": "stream",
     "text": [
      "first_order_m\n",
      "2017-06-01    24031.69\n",
      "2017-07-01    16127.92\n",
      "2017-08-01    11606.26\n",
      "2017-09-01    34676.32\n",
      "2017-10-01    27603.45\n",
      "2017-11-01    26098.99\n",
      "2017-12-01    33485.74\n",
      "2018-01-01    16663.13\n",
      "2018-02-01    16750.50\n",
      "2018-03-01    19273.41\n",
      "2018-04-01    11810.61\n",
      "2018-05-01    13925.76\n",
      "2018-06-01        3.42\n",
      "Name: revenue, dtype: float64\n"
     ]
    }
   ],
   "source": [
    "ppp=report.groupby('first_order_m')['revenue'].sum()\n",
    "print(ppp)"
   ]
  },
  {
   "cell_type": "markdown",
   "metadata": {},
   "source": [
    "-Como se puede apreciar cada usuario a lo largo del ciclo de vida del cohorto trae menos ganancias esto quiere decir que compran menos.\n",
    "\n",
    "-Se cuenta con algunas alzas para los meses ultimos 4 meses de año 2017\n",
    "\n",
    "-El ltv o lo que aportan los usuarios para el mes de junio fue de 5.939616905585761"
   ]
  },
  {
   "cell_type": "markdown",
   "metadata": {},
   "source": [
    "## Marketing"
   ]
  },
  {
   "cell_type": "markdown",
   "metadata": {},
   "source": [
    "### ¿Cuánto dinero se gastó? (Total/por fuente de adquisición/a lo largo del tiempo) "
   ]
  },
  {
   "cell_type": "code",
   "execution_count": 124,
   "metadata": {},
   "outputs": [
    {
     "name": "stdout",
     "output_type": "stream",
     "text": [
      "      source_id         dt  costs      month\n",
      "0             1 2017-06-01  75.20 2017-06-01\n",
      "1             1 2017-06-02  62.25 2017-06-01\n",
      "2             1 2017-06-03  36.53 2017-06-01\n",
      "3             1 2017-06-04  55.00 2017-06-01\n",
      "4             1 2017-06-05  57.08 2017-06-01\n",
      "...         ...        ...    ...        ...\n",
      "2537         10 2018-05-27   9.92 2018-05-01\n",
      "2538         10 2018-05-28  21.26 2018-05-01\n",
      "2539         10 2018-05-29  11.32 2018-05-01\n",
      "2540         10 2018-05-30  33.15 2018-05-01\n",
      "2541         10 2018-05-31  17.60 2018-05-01\n",
      "\n",
      "[2542 rows x 4 columns]\n"
     ]
    }
   ],
   "source": [
    "\n",
    "df_cost['month'] = df_cost['dt'].astype('datetime64[M]')\n",
    "print(df_cost)"
   ]
  },
  {
   "cell_type": "code",
   "execution_count": 125,
   "metadata": {},
   "outputs": [
    {
     "name": "stdout",
     "output_type": "stream",
     "text": [
      "        month     costs\n",
      "0  2017-06-01  18015.00\n",
      "1  2017-07-01  18240.59\n",
      "2  2017-08-01  14790.54\n",
      "3  2017-09-01  24368.91\n",
      "4  2017-10-01  36322.88\n",
      "5  2017-11-01  37907.88\n",
      "6  2017-12-01  38315.35\n",
      "7  2018-01-01  33518.52\n",
      "8  2018-02-01  32723.03\n",
      "9  2018-03-01  30415.27\n",
      "10 2018-04-01  22289.38\n",
      "11 2018-05-01  22224.27\n",
      "329131.61999999994\n"
     ]
    }
   ],
   "source": [
    "cost_m = df_cost.groupby('month')['costs'].sum().reset_index()\n",
    "print(cost_m)\n",
    "print(cost_m['costs'].sum())\n"
   ]
  },
  {
   "cell_type": "code",
   "execution_count": 126,
   "metadata": {},
   "outputs": [
    {
     "name": "stdout",
     "output_type": "stream",
     "text": [
      "   first_order_m  n_usr    order_m   revenue        gp  age       ltv  \\\n",
      "0     2017-06-01   2023 2017-06-01   9557.49  4778.745    0  2.362207   \n",
      "1     2017-06-01   2023 2017-07-01    981.82   490.910    1  0.242664   \n",
      "2     2017-06-01   2023 2017-08-01    885.34   442.670    2  0.218819   \n",
      "3     2017-06-01   2023 2017-09-01   1931.30   965.650    3  0.477336   \n",
      "4     2017-06-01   2023 2017-10-01   2068.58  1034.290    4  0.511265   \n",
      "..           ...    ...        ...       ...       ...  ...       ...   \n",
      "73    2018-03-01   3533 2018-04-01   1063.05   531.525    1  0.150446   \n",
      "74    2018-03-01   3533 2018-05-01   1114.87   557.435    2  0.157780   \n",
      "75    2018-04-01   2276 2018-04-01  10600.69  5300.345    0  2.328798   \n",
      "76    2018-04-01   2276 2018-05-01   1209.92   604.960    1  0.265800   \n",
      "77    2018-05-01   2988 2018-05-01  13925.76  6962.880    0  2.330281   \n",
      "\n",
      "        month     costs       cac  \n",
      "0  2017-06-01  18015.00  8.905091  \n",
      "1  2017-06-01  18015.00  8.905091  \n",
      "2  2017-06-01  18015.00  8.905091  \n",
      "3  2017-06-01  18015.00  8.905091  \n",
      "4  2017-06-01  18015.00  8.905091  \n",
      "..        ...       ...       ...  \n",
      "73 2018-03-01  30415.27  8.608907  \n",
      "74 2018-03-01  30415.27  8.608907  \n",
      "75 2018-04-01  22289.38  9.793225  \n",
      "76 2018-04-01  22289.38  9.793225  \n",
      "77 2018-05-01  22224.27  7.437841  \n",
      "\n",
      "[78 rows x 10 columns]\n"
     ]
    }
   ],
   "source": [
    "report_cac = pd.merge(report,cost_m, left_on='first_order_m',right_on='month')\n",
    "report_cac['cac']=report_cac['costs'] / report_cac['n_usr']\n",
    "\n",
    "print(report_cac)"
   ]
  },
  {
   "cell_type": "code",
   "execution_count": 127,
   "metadata": {},
   "outputs": [
    {
     "data": {
      "text/plain": [
       "count    78.000000\n",
       "mean      9.319905\n",
       "std       0.733719\n",
       "min       7.437841\n",
       "25%       8.905091\n",
       "50%       9.288870\n",
       "75%       9.485486\n",
       "max      10.796015\n",
       "Name: cac, dtype: float64"
      ]
     },
     "execution_count": 127,
     "metadata": {},
     "output_type": "execute_result"
    }
   ],
   "source": [
    "report_cac['cac'].describe()"
   ]
  },
  {
   "cell_type": "markdown",
   "metadata": {},
   "source": [
    "-En promedio se necesita  9.319905 para atraer a un cliente \n",
    "\n",
    "-por lo que se puede ver el cac es mayor al ltv por lo que no se esta recuperando la inversion "
   ]
  },
  {
   "cell_type": "markdown",
   "metadata": {},
   "source": [
    "### ¿Cuál fue el costo de adquisición de clientes de cada una de las fuentes? "
   ]
  },
  {
   "cell_type": "code",
   "execution_count": 128,
   "metadata": {},
   "outputs": [
    {
     "name": "stdout",
     "output_type": "stream",
     "text": [
      "          month  source_id\n",
      "0    2017-06-01          1\n",
      "1    2017-06-01          1\n",
      "2    2017-06-01          1\n",
      "3    2017-06-01          1\n",
      "4    2017-06-01          1\n",
      "...         ...        ...\n",
      "2537 2018-05-01         10\n",
      "2538 2018-05-01         10\n",
      "2539 2018-05-01         10\n",
      "2540 2018-05-01         10\n",
      "2541 2018-05-01         10\n",
      "\n",
      "[2542 rows x 2 columns]\n"
     ]
    }
   ],
   "source": [
    "source = df_cost[['month','source_id']]\n",
    "print(source)"
   ]
  },
  {
   "cell_type": "code",
   "execution_count": 129,
   "metadata": {},
   "outputs": [
    {
     "name": "stdout",
     "output_type": "stream",
     "text": [
      "  first_order_m  n_usr    order_m  revenue        gp  age       ltv  \\\n",
      "0    2017-06-01   2023 2017-06-01  9557.49  4778.745    0  2.362207   \n",
      "1    2017-06-01   2023 2017-06-01  9557.49  4778.745    0  2.362207   \n",
      "2    2017-06-01   2023 2017-06-01  9557.49  4778.745    0  2.362207   \n",
      "3    2017-06-01   2023 2017-06-01  9557.49  4778.745    0  2.362207   \n",
      "4    2017-06-01   2023 2017-06-01  9557.49  4778.745    0  2.362207   \n",
      "\n",
      "     month_x    costs       cac    month_y  source_id  \n",
      "0 2017-06-01  18015.0  8.905091 2017-06-01          1  \n",
      "1 2017-06-01  18015.0  8.905091 2017-06-01          1  \n",
      "2 2017-06-01  18015.0  8.905091 2017-06-01          1  \n",
      "3 2017-06-01  18015.0  8.905091 2017-06-01          1  \n",
      "4 2017-06-01  18015.0  8.905091 2017-06-01          1  \n"
     ]
    }
   ],
   "source": [
    "report_cost_s = pd.merge(report_cac,source,left_on='first_order_m',right_on='month')\n",
    "print(report_cost_s.head())"
   ]
  },
  {
   "cell_type": "code",
   "execution_count": 130,
   "metadata": {},
   "outputs": [
    {
     "name": "stdout",
     "output_type": "stream",
     "text": [
      "source_id\n",
      "1     22106.119918\n",
      "2     22106.119918\n",
      "3     22106.119918\n",
      "4     22106.119918\n",
      "5     22131.946641\n",
      "9     22106.119918\n",
      "10    22106.119918\n",
      "Name: cac, dtype: float64\n"
     ]
    }
   ],
   "source": [
    "report_cost_final_source = report_cost_s.groupby(['source_id'])['cac'].sum()\n",
    "print(report_cost_final_source)"
   ]
  },
  {
   "cell_type": "code",
   "execution_count": 131,
   "metadata": {},
   "outputs": [
    {
     "data": {
      "image/png": "[encoded data removed]",
      "text/plain": [
       "<Figure size 640x480 with 1 Axes>"
      ]
     },
     "metadata": {},
     "output_type": "display_data"
    }
   ],
   "source": [
    "report_cost_final_source.plot(kind='bar')\n",
    "plt.title('cac por fuente de anuncio')\n",
    "plt.xlabel('Codigo fuente de anuncio')\n",
    "plt.ylabel('cac total ')\n",
    "plt.show()"
   ]
  },
  {
   "cell_type": "markdown",
   "metadata": {},
   "source": [
    "-por cada fuente de anuncios se gasta 22106 generalmente\n",
    "\n",
    "-la fuente de anuncio 5 fue la genero mas gastos"
   ]
  },
  {
   "cell_type": "markdown",
   "metadata": {},
   "source": [
    "<div class=\"alert alert-block alert-success\"> <b>Comentario del revisor</b> <a class=“tocSkip”></a> Tu análisis del costo por fuente de adquisición es muy sólido</div>"
   ]
  },
  {
   "cell_type": "markdown",
   "metadata": {},
   "source": [
    "### ¿Cuán rentables eran las inversiones? (ROMI)"
   ]
  },
  {
   "cell_type": "code",
   "execution_count": 132,
   "metadata": {},
   "outputs": [
    {
     "name": "stdout",
     "output_type": "stream",
     "text": [
      "   first_order_m  n_usr    order_m   revenue        gp  age       ltv  \\\n",
      "0     2017-06-01   2023 2017-06-01   9557.49  4778.745    0  2.362207   \n",
      "1     2017-06-01   2023 2017-07-01    981.82   490.910    1  0.242664   \n",
      "2     2017-06-01   2023 2017-08-01    885.34   442.670    2  0.218819   \n",
      "3     2017-06-01   2023 2017-09-01   1931.30   965.650    3  0.477336   \n",
      "4     2017-06-01   2023 2017-10-01   2068.58  1034.290    4  0.511265   \n",
      "..           ...    ...        ...       ...       ...  ...       ...   \n",
      "73    2018-03-01   3533 2018-04-01   1063.05   531.525    1  0.150446   \n",
      "74    2018-03-01   3533 2018-05-01   1114.87   557.435    2  0.157780   \n",
      "75    2018-04-01   2276 2018-04-01  10600.69  5300.345    0  2.328798   \n",
      "76    2018-04-01   2276 2018-05-01   1209.92   604.960    1  0.265800   \n",
      "77    2018-05-01   2988 2018-05-01  13925.76  6962.880    0  2.330281   \n",
      "\n",
      "        month     costs       cac      romi  \n",
      "0  2017-06-01  18015.00  8.905091  0.265265  \n",
      "1  2017-06-01  18015.00  8.905091  0.027250  \n",
      "2  2017-06-01  18015.00  8.905091  0.024572  \n",
      "3  2017-06-01  18015.00  8.905091  0.053603  \n",
      "4  2017-06-01  18015.00  8.905091  0.057413  \n",
      "..        ...       ...       ...       ...  \n",
      "73 2018-03-01  30415.27  8.608907  0.017476  \n",
      "74 2018-03-01  30415.27  8.608907  0.018327  \n",
      "75 2018-04-01  22289.38  9.793225  0.237797  \n",
      "76 2018-04-01  22289.38  9.793225  0.027141  \n",
      "77 2018-05-01  22224.27  7.437841  0.313301  \n",
      "\n",
      "[78 rows x 11 columns]\n"
     ]
    }
   ],
   "source": [
    "report_cac['romi'] = report_cac['ltv']/report_cac['cac']\n",
    "print(report_cac )"
   ]
  },
  {
   "cell_type": "code",
   "execution_count": 133,
   "metadata": {},
   "outputs": [
    {
     "name": "stdout",
     "output_type": "stream",
     "text": [
      "age              0     1     2     3     4     5     6     7     8     9   \\\n",
      "first_order_m                                                               \n",
      "2017-06-01     0.27  0.29  0.32  0.37  0.43  0.47  0.52  0.56  0.59  0.62   \n",
      "2017-07-01     0.32  0.33  0.37  0.39  0.40  0.40  0.41  0.42  0.43  0.43   \n",
      "2017-08-01     0.24  0.27  0.29  0.31  0.33  0.34  0.35  0.37  0.38  0.39   \n",
      "2017-09-01     0.30  0.36  0.39  0.60  0.62  0.65  0.69  0.70  0.71   NaN   \n",
      "2017-10-01     0.30  0.33  0.34  0.35  0.36  0.37  0.37  0.38   NaN   NaN   \n",
      "2017-11-01     0.28  0.30  0.31  0.33  0.34  0.34  0.34   NaN   NaN   NaN   \n",
      "2017-12-01     0.27  0.29  0.34  0.40  0.42  0.44   NaN   NaN   NaN   NaN   \n",
      "2018-01-01     0.21  0.22  0.24  0.25  0.25   NaN   NaN   NaN   NaN   NaN   \n",
      "2018-02-01     0.23  0.25  0.25  0.26   NaN   NaN   NaN   NaN   NaN   NaN   \n",
      "2018-03-01     0.28  0.30  0.32   NaN   NaN   NaN   NaN   NaN   NaN   NaN   \n",
      "2018-04-01     0.24  0.26   NaN   NaN   NaN   NaN   NaN   NaN   NaN   NaN   \n",
      "2018-05-01     0.31   NaN   NaN   NaN   NaN   NaN   NaN   NaN   NaN   NaN   \n",
      "\n",
      "age              10    11  \n",
      "first_order_m              \n",
      "2017-06-01     0.65  0.67  \n",
      "2017-07-01     0.44   NaN  \n",
      "2017-08-01      NaN   NaN  \n",
      "2017-09-01      NaN   NaN  \n",
      "2017-10-01      NaN   NaN  \n",
      "2017-11-01      NaN   NaN  \n",
      "2017-12-01      NaN   NaN  \n",
      "2018-01-01      NaN   NaN  \n",
      "2018-02-01      NaN   NaN  \n",
      "2018-03-01      NaN   NaN  \n",
      "2018-04-01      NaN   NaN  \n",
      "2018-05-01      NaN   NaN  \n"
     ]
    }
   ],
   "source": [
    "rromi=report_cac.pivot_table(index='first_order_m',columns='age',values='romi',aggfunc='mean')\n",
    "print(rromi.cumsum(axis=1).round(2))\n"
   ]
  },
  {
   "cell_type": "markdown",
   "metadata": {},
   "source": [
    "-Como se puede apreciar no se llega a recuperar la inversion en cohorto existe un aumento en el ciclo de vida pero no contempla \n",
    "una recuperacion como tal "
   ]
  },
  {
   "cell_type": "markdown",
   "metadata": {},
   "source": [
    "## Conclusion"
   ]
  },
  {
   "cell_type": "markdown",
   "metadata": {},
   "source": [
    "-De la manera como esta haciendo las cosas Showz no esta obteniendo ganancias ya que se puede ver en el romi al separarse en cohortes en en ninguno logra una recuperacion de la inversion\n",
    "\n",
    "-Se le recomienda definir bien los canales de anuncios ya que las fuentes de anuncios que que estaba relacionado con la llegada del usuario no estaba completa y tampoco eran las mismas por lo cual se estaba evaluando el costo es decir en los costos se tenia menos fuentes de anuncios de la registradas por el usuario lo que proboca incoherencia en el analisis\n",
    "\n",
    "-Teniendo en cuenta que el gasto para cada fuente de anuncio es el mismo se le recomiendo invertir mas en los primero 2 ya que fueron los que mas atrajeron visitantes.\n",
    "\n",
    "-Tambien con respecto a la actividad de usuario por dispositivo fue mayor en los deskptop por lo que sugiere invertir en mejorar en los dispositivos touch que ya que estos pueden ir de un smartphone a una table algo que las personas en general tienen a mano.\n",
    "\n"
   ]
  },
  {
   "cell_type": "markdown",
   "metadata": {},
   "source": [
    "<div class=\"alert alert-block alert-success\"> <b>Comentario del revisor</b> <a class=“tocSkip”></a> La conclusión es clara y bien fundamentada. Tus recomendaciones son acertadas y proporcionan una guía clara para mejorar la estrategia de marketing de Showz. </div>\n",
    "\n",
    "\n",
    "\n",
    "\n",
    "\n",
    "\n"
   ]
  },
  {
   "cell_type": "markdown",
   "metadata": {},
   "source": [
    "## Comentario Final"
   ]
  },
  {
   "cell_type": "markdown",
   "metadata": {},
   "source": [
    "<div class=\"alert alert-block alert-success\">\n",
    "<b>Comentario del revisor</b> <a class=\"tocSkip\"></a>\n",
    "\n",
    "¡Impresionante esfuerzo en este proyecto! 🌟 **Este proyecto está listo para ser aprobado.**<br>\n",
    "Tu habilidad para ejecutar y presentar este trabajo es admirable.<br>\n",
    "<br>Es un placer reconocer tu dedicación y el análisis detallado que has llevado a cabo. Continúa superándote en tus futuras iniciativas. Confío en que aplicarás este conocimiento de manera efectiva en desafíos futuros, avanzando hacia objetivos aún más ambiciosos.\n",
    "</div>\n"
   ]
  }
 ],
 "metadata": {
  "ExecuteTimeLog": [
   {
    "duration": 2562,
    "start_time": "2024-08-29T19:43:35.811Z"
   },
   {
    "duration": 2,
    "start_time": "2024-08-29T19:49:31.066Z"
   },
   {
    "duration": 443,
    "start_time": "2024-08-29T19:51:12.080Z"
   },
   {
    "duration": 44,
    "start_time": "2024-08-29T19:51:51.433Z"
   },
   {
    "duration": 5,
    "start_time": "2024-08-29T19:52:37.689Z"
   },
   {
    "duration": 139,
    "start_time": "2024-08-29T19:56:07.539Z"
   },
   {
    "duration": 15,
    "start_time": "2024-08-29T19:58:09.788Z"
   },
   {
    "duration": 61,
    "start_time": "2024-08-29T19:58:51.518Z"
   },
   {
    "duration": 63,
    "start_time": "2024-08-29T19:59:34.771Z"
   },
   {
    "duration": 69,
    "start_time": "2024-08-29T20:00:11.570Z"
   },
   {
    "duration": 10,
    "start_time": "2024-08-29T20:01:36.888Z"
   },
   {
    "duration": 5,
    "start_time": "2024-08-29T20:01:55.514Z"
   },
   {
    "duration": 16,
    "start_time": "2024-08-29T20:03:09.555Z"
   },
   {
    "duration": 5,
    "start_time": "2024-08-29T20:03:38.604Z"
   },
   {
    "duration": 9,
    "start_time": "2024-08-29T20:03:57.711Z"
   },
   {
    "duration": 9,
    "start_time": "2024-08-29T20:05:29.400Z"
   },
   {
    "duration": 5,
    "start_time": "2024-08-29T20:06:03.411Z"
   },
   {
    "duration": 341,
    "start_time": "2024-08-29T20:07:09.143Z"
   },
   {
    "duration": 9,
    "start_time": "2024-08-29T20:07:27.256Z"
   },
   {
    "duration": 4,
    "start_time": "2024-08-29T20:07:55.593Z"
   },
   {
    "duration": 4,
    "start_time": "2024-08-29T20:08:22.064Z"
   },
   {
    "duration": 23,
    "start_time": "2024-08-29T20:09:39.733Z"
   },
   {
    "duration": 2510,
    "start_time": "2024-08-30T19:50:41.783Z"
   },
   {
    "duration": 458,
    "start_time": "2024-08-30T19:50:44.295Z"
   },
   {
    "duration": 39,
    "start_time": "2024-08-30T19:50:44.755Z"
   },
   {
    "duration": 5,
    "start_time": "2024-08-30T19:50:44.797Z"
   },
   {
    "duration": 148,
    "start_time": "2024-08-30T19:50:44.803Z"
   },
   {
    "duration": 18,
    "start_time": "2024-08-30T19:50:44.953Z"
   },
   {
    "duration": 70,
    "start_time": "2024-08-30T19:50:44.973Z"
   },
   {
    "duration": 26,
    "start_time": "2024-08-30T19:50:45.045Z"
   },
   {
    "duration": 4,
    "start_time": "2024-08-30T19:50:45.073Z"
   },
   {
    "duration": 15,
    "start_time": "2024-08-30T19:50:45.080Z"
   },
   {
    "duration": 4,
    "start_time": "2024-08-30T19:50:45.096Z"
   },
   {
    "duration": 7,
    "start_time": "2024-08-30T19:50:45.103Z"
   },
   {
    "duration": 8,
    "start_time": "2024-08-30T19:50:45.111Z"
   },
   {
    "duration": 5,
    "start_time": "2024-08-30T19:50:45.120Z"
   },
   {
    "duration": 49,
    "start_time": "2024-08-30T19:50:45.127Z"
   },
   {
    "duration": 4,
    "start_time": "2024-08-30T19:50:45.177Z"
   },
   {
    "duration": 3,
    "start_time": "2024-08-30T19:50:45.183Z"
   },
   {
    "duration": 12,
    "start_time": "2024-08-30T19:50:45.188Z"
   },
   {
    "duration": 5,
    "start_time": "2024-08-30T19:54:31.821Z"
   },
   {
    "duration": 56,
    "start_time": "2024-08-30T19:59:35.454Z"
   },
   {
    "duration": 6,
    "start_time": "2024-08-30T19:59:43.521Z"
   },
   {
    "duration": 49,
    "start_time": "2024-08-30T20:02:01.981Z"
   },
   {
    "duration": 5,
    "start_time": "2024-08-30T20:02:04.664Z"
   },
   {
    "duration": 49,
    "start_time": "2024-08-30T20:02:27.510Z"
   },
   {
    "duration": 7,
    "start_time": "2024-08-30T20:02:28.820Z"
   },
   {
    "duration": 822,
    "start_time": "2024-08-30T20:03:14.934Z"
   },
   {
    "duration": 376,
    "start_time": "2024-08-30T20:03:15.759Z"
   },
   {
    "duration": 45,
    "start_time": "2024-08-30T20:03:16.137Z"
   },
   {
    "duration": 5,
    "start_time": "2024-08-30T20:03:16.184Z"
   },
   {
    "duration": 171,
    "start_time": "2024-08-30T20:03:16.192Z"
   },
   {
    "duration": 17,
    "start_time": "2024-08-30T20:03:16.365Z"
   },
   {
    "duration": 88,
    "start_time": "2024-08-30T20:03:16.384Z"
   },
   {
    "duration": 12,
    "start_time": "2024-08-30T20:03:16.474Z"
   },
   {
    "duration": 5,
    "start_time": "2024-08-30T20:03:16.490Z"
   },
   {
    "duration": 16,
    "start_time": "2024-08-30T20:03:16.497Z"
   },
   {
    "duration": 4,
    "start_time": "2024-08-30T20:03:16.514Z"
   },
   {
    "duration": 9,
    "start_time": "2024-08-30T20:03:16.520Z"
   },
   {
    "duration": 44,
    "start_time": "2024-08-30T20:03:16.532Z"
   },
   {
    "duration": 5,
    "start_time": "2024-08-30T20:03:16.580Z"
   },
   {
    "duration": 11,
    "start_time": "2024-08-30T20:03:16.587Z"
   },
   {
    "duration": 4,
    "start_time": "2024-08-30T20:03:16.599Z"
   },
   {
    "duration": 5,
    "start_time": "2024-08-30T20:03:16.605Z"
   },
   {
    "duration": 13,
    "start_time": "2024-08-30T20:03:16.612Z"
   },
   {
    "duration": 43,
    "start_time": "2024-08-30T20:03:16.627Z"
   },
   {
    "duration": 50,
    "start_time": "2024-08-30T20:03:16.673Z"
   },
   {
    "duration": 6,
    "start_time": "2024-08-30T20:03:16.725Z"
   },
   {
    "duration": 111,
    "start_time": "2024-08-30T20:07:25.429Z"
   },
   {
    "duration": 5,
    "start_time": "2024-08-30T20:07:26.618Z"
   },
   {
    "duration": 84,
    "start_time": "2024-08-30T20:08:56.477Z"
   },
   {
    "duration": 131,
    "start_time": "2024-08-30T20:10:53.263Z"
   },
   {
    "duration": 6,
    "start_time": "2024-08-30T20:10:54.043Z"
   },
   {
    "duration": 127,
    "start_time": "2024-08-30T20:11:47.235Z"
   },
   {
    "duration": 185,
    "start_time": "2024-08-30T20:14:35.806Z"
   },
   {
    "duration": 24,
    "start_time": "2024-08-30T20:19:25.865Z"
   },
   {
    "duration": 4,
    "start_time": "2024-08-30T20:21:41.511Z"
   },
   {
    "duration": 33,
    "start_time": "2024-08-30T20:21:47.908Z"
   },
   {
    "duration": 5,
    "start_time": "2024-08-30T20:22:29.726Z"
   },
   {
    "duration": 28,
    "start_time": "2024-08-30T20:22:51.454Z"
   },
   {
    "duration": 561,
    "start_time": "2024-08-30T20:23:20.477Z"
   },
   {
    "duration": 4,
    "start_time": "2024-08-30T20:23:28.865Z"
   },
   {
    "duration": 21,
    "start_time": "2024-08-30T20:24:09.749Z"
   },
   {
    "duration": 21,
    "start_time": "2024-08-30T20:26:30.508Z"
   },
   {
    "duration": 21,
    "start_time": "2024-08-30T20:26:55.995Z"
   },
   {
    "duration": 20,
    "start_time": "2024-08-30T20:27:59.791Z"
   },
   {
    "duration": 306,
    "start_time": "2024-08-30T20:28:16.136Z"
   },
   {
    "duration": 21,
    "start_time": "2024-08-30T20:28:25.978Z"
   },
   {
    "duration": 94,
    "start_time": "2024-08-30T20:30:44.609Z"
   },
   {
    "duration": 20,
    "start_time": "2024-08-30T20:31:00.471Z"
   },
   {
    "duration": 22,
    "start_time": "2024-08-30T20:31:10.817Z"
   },
   {
    "duration": 31,
    "start_time": "2024-08-30T20:32:38.857Z"
   },
   {
    "duration": 20,
    "start_time": "2024-08-30T20:33:37.765Z"
   },
   {
    "duration": 4,
    "start_time": "2024-08-30T20:34:05.087Z"
   },
   {
    "duration": 9,
    "start_time": "2024-08-30T20:34:42.706Z"
   },
   {
    "duration": 13,
    "start_time": "2024-08-30T20:34:56.526Z"
   },
   {
    "duration": 89,
    "start_time": "2024-08-30T20:35:39.455Z"
   },
   {
    "duration": 22,
    "start_time": "2024-08-30T20:36:03.377Z"
   },
   {
    "duration": 23,
    "start_time": "2024-08-30T20:36:15.825Z"
   },
   {
    "duration": 22,
    "start_time": "2024-08-30T20:40:33.487Z"
   },
   {
    "duration": 22,
    "start_time": "2024-08-30T21:17:52.060Z"
   },
   {
    "duration": 19,
    "start_time": "2024-08-30T21:21:54.334Z"
   },
   {
    "duration": 61,
    "start_time": "2024-08-30T21:24:11.787Z"
   },
   {
    "duration": 60,
    "start_time": "2024-08-30T21:25:03.076Z"
   },
   {
    "duration": 61,
    "start_time": "2024-08-30T21:26:30.450Z"
   },
   {
    "duration": 45,
    "start_time": "2024-08-30T21:31:56.743Z"
   },
   {
    "duration": 12,
    "start_time": "2024-08-30T21:32:12.077Z"
   },
   {
    "duration": 6,
    "start_time": "2024-08-30T21:33:59.850Z"
   },
   {
    "duration": 3,
    "start_time": "2024-08-30T21:34:12.917Z"
   },
   {
    "duration": 115,
    "start_time": "2024-08-30T21:34:56.595Z"
   },
   {
    "duration": 133,
    "start_time": "2024-08-30T21:35:10.443Z"
   },
   {
    "duration": 170,
    "start_time": "2024-08-30T21:35:21.689Z"
   },
   {
    "duration": 5,
    "start_time": "2024-08-30T21:35:43.364Z"
   },
   {
    "duration": 5,
    "start_time": "2024-08-30T21:38:24.286Z"
   },
   {
    "duration": 2529,
    "start_time": "2024-09-02T13:29:46.182Z"
   },
   {
    "duration": 436,
    "start_time": "2024-09-02T13:29:48.713Z"
   },
   {
    "duration": 39,
    "start_time": "2024-09-02T13:29:49.151Z"
   },
   {
    "duration": 6,
    "start_time": "2024-09-02T13:29:49.192Z"
   },
   {
    "duration": 145,
    "start_time": "2024-09-02T13:29:49.200Z"
   },
   {
    "duration": 14,
    "start_time": "2024-09-02T13:29:49.347Z"
   },
   {
    "duration": 80,
    "start_time": "2024-09-02T13:29:49.363Z"
   },
   {
    "duration": 10,
    "start_time": "2024-09-02T13:29:49.445Z"
   },
   {
    "duration": 4,
    "start_time": "2024-09-02T13:29:49.457Z"
   },
   {
    "duration": 33,
    "start_time": "2024-09-02T13:29:49.463Z"
   },
   {
    "duration": 3,
    "start_time": "2024-09-02T13:29:49.498Z"
   },
   {
    "duration": 7,
    "start_time": "2024-09-02T13:29:49.503Z"
   },
   {
    "duration": 7,
    "start_time": "2024-09-02T13:29:49.512Z"
   },
   {
    "duration": 4,
    "start_time": "2024-09-02T13:29:49.522Z"
   },
   {
    "duration": 9,
    "start_time": "2024-09-02T13:29:49.528Z"
   },
   {
    "duration": 4,
    "start_time": "2024-09-02T13:29:49.539Z"
   },
   {
    "duration": 44,
    "start_time": "2024-09-02T13:29:49.545Z"
   },
   {
    "duration": 13,
    "start_time": "2024-09-02T13:29:49.590Z"
   },
   {
    "duration": 4,
    "start_time": "2024-09-02T13:29:49.605Z"
   },
   {
    "duration": 141,
    "start_time": "2024-09-02T13:29:49.611Z"
   },
   {
    "duration": 7,
    "start_time": "2024-09-02T13:29:49.754Z"
   },
   {
    "duration": 192,
    "start_time": "2024-09-02T13:29:49.764Z"
   },
   {
    "duration": 34,
    "start_time": "2024-09-02T13:29:49.958Z"
   },
   {
    "duration": 61,
    "start_time": "2024-09-02T13:29:49.994Z"
   },
   {
    "duration": 30,
    "start_time": "2024-09-02T13:29:50.057Z"
   },
   {
    "duration": 199,
    "start_time": "2024-09-02T13:29:50.089Z"
   },
   {
    "duration": 6,
    "start_time": "2024-09-02T13:29:50.289Z"
   },
   {
    "duration": 4,
    "start_time": "2024-09-02T13:29:50.296Z"
   },
   {
    "duration": 214,
    "start_time": "2024-09-02T13:47:45.634Z"
   },
   {
    "duration": 10,
    "start_time": "2024-09-02T13:48:00.961Z"
   },
   {
    "duration": 13,
    "start_time": "2024-09-02T14:01:05.959Z"
   },
   {
    "duration": 6,
    "start_time": "2024-09-02T14:01:10.643Z"
   },
   {
    "duration": 378,
    "start_time": "2024-09-02T14:02:59.559Z"
   },
   {
    "duration": 69,
    "start_time": "2024-09-02T14:04:51.795Z"
   },
   {
    "duration": 130,
    "start_time": "2024-09-02T14:08:20.494Z"
   },
   {
    "duration": 165,
    "start_time": "2024-09-02T14:13:48.170Z"
   },
   {
    "duration": 122,
    "start_time": "2024-09-02T14:13:59.780Z"
   },
   {
    "duration": 12,
    "start_time": "2024-09-02T14:15:12.450Z"
   },
   {
    "duration": 5,
    "start_time": "2024-09-02T14:15:27.518Z"
   },
   {
    "duration": 157,
    "start_time": "2024-09-02T14:16:23.157Z"
   },
   {
    "duration": 510,
    "start_time": "2024-09-02T14:19:26.273Z"
   },
   {
    "duration": 44,
    "start_time": "2024-09-02T14:19:54.337Z"
   },
   {
    "duration": 121,
    "start_time": "2024-09-02T14:20:23.887Z"
   },
   {
    "duration": 208,
    "start_time": "2024-09-02T14:30:20.097Z"
   },
   {
    "duration": 5,
    "start_time": "2024-09-02T14:30:24.540Z"
   },
   {
    "duration": 61,
    "start_time": "2024-09-02T14:30:49.806Z"
   },
   {
    "duration": 3,
    "start_time": "2024-09-02T14:34:17.736Z"
   },
   {
    "duration": 11,
    "start_time": "2024-09-02T14:34:30.566Z"
   },
   {
    "duration": 11,
    "start_time": "2024-09-02T14:35:31.271Z"
   },
   {
    "duration": 45,
    "start_time": "2024-09-02T14:36:36.065Z"
   },
   {
    "duration": 11,
    "start_time": "2024-09-02T14:38:40.923Z"
   },
   {
    "duration": 12,
    "start_time": "2024-09-02T14:38:49.776Z"
   },
   {
    "duration": 819,
    "start_time": "2024-09-02T14:39:05.204Z"
   },
   {
    "duration": 356,
    "start_time": "2024-09-02T14:39:06.025Z"
   },
   {
    "duration": 43,
    "start_time": "2024-09-02T14:39:06.382Z"
   },
   {
    "duration": 6,
    "start_time": "2024-09-02T14:39:06.427Z"
   },
   {
    "duration": 156,
    "start_time": "2024-09-02T14:39:06.435Z"
   },
   {
    "duration": 14,
    "start_time": "2024-09-02T14:39:06.594Z"
   },
   {
    "duration": 80,
    "start_time": "2024-09-02T14:39:06.609Z"
   },
   {
    "duration": 9,
    "start_time": "2024-09-02T14:39:06.691Z"
   },
   {
    "duration": 4,
    "start_time": "2024-09-02T14:39:06.702Z"
   },
   {
    "duration": 14,
    "start_time": "2024-09-02T14:39:06.708Z"
   },
   {
    "duration": 5,
    "start_time": "2024-09-02T14:39:06.724Z"
   },
   {
    "duration": 7,
    "start_time": "2024-09-02T14:39:06.731Z"
   },
   {
    "duration": 7,
    "start_time": "2024-09-02T14:39:06.741Z"
   },
   {
    "duration": 5,
    "start_time": "2024-09-02T14:39:06.787Z"
   },
   {
    "duration": 9,
    "start_time": "2024-09-02T14:39:06.794Z"
   },
   {
    "duration": 4,
    "start_time": "2024-09-02T14:39:06.805Z"
   },
   {
    "duration": 4,
    "start_time": "2024-09-02T14:39:06.811Z"
   },
   {
    "duration": 12,
    "start_time": "2024-09-02T14:39:06.817Z"
   },
   {
    "duration": 4,
    "start_time": "2024-09-02T14:39:06.831Z"
   },
   {
    "duration": 156,
    "start_time": "2024-09-02T14:39:06.837Z"
   },
   {
    "duration": 6,
    "start_time": "2024-09-02T14:39:06.995Z"
   },
   {
    "duration": 208,
    "start_time": "2024-09-02T14:39:07.003Z"
   },
   {
    "duration": 23,
    "start_time": "2024-09-02T14:39:07.213Z"
   },
   {
    "duration": 75,
    "start_time": "2024-09-02T14:39:07.238Z"
   },
   {
    "duration": 12,
    "start_time": "2024-09-02T14:39:07.315Z"
   },
   {
    "duration": 196,
    "start_time": "2024-09-02T14:39:07.329Z"
   },
   {
    "duration": 6,
    "start_time": "2024-09-02T14:39:07.527Z"
   },
   {
    "duration": 4,
    "start_time": "2024-09-02T14:39:07.535Z"
   },
   {
    "duration": 14,
    "start_time": "2024-09-02T14:39:07.541Z"
   },
   {
    "duration": 29,
    "start_time": "2024-09-02T14:39:07.557Z"
   },
   {
    "duration": 10,
    "start_time": "2024-09-02T14:39:07.588Z"
   },
   {
    "duration": 630,
    "start_time": "2024-09-02T14:39:07.600Z"
   },
   {
    "duration": 11,
    "start_time": "2024-09-02T14:39:22.380Z"
   },
   {
    "duration": 11,
    "start_time": "2024-09-02T14:39:28.334Z"
   },
   {
    "duration": 516,
    "start_time": "2024-09-02T14:41:58.425Z"
   },
   {
    "duration": 12,
    "start_time": "2024-09-02T14:42:23.318Z"
   },
   {
    "duration": 10,
    "start_time": "2024-09-02T14:45:17.693Z"
   },
   {
    "duration": 56,
    "start_time": "2024-09-02T14:54:22.867Z"
   },
   {
    "duration": 49,
    "start_time": "2024-09-02T14:56:24.660Z"
   },
   {
    "duration": 68,
    "start_time": "2024-09-02T15:01:54.576Z"
   },
   {
    "duration": 70,
    "start_time": "2024-09-02T15:02:11.522Z"
   },
   {
    "duration": 6,
    "start_time": "2024-09-02T15:02:43.212Z"
   },
   {
    "duration": 26,
    "start_time": "2024-09-02T15:03:32.092Z"
   },
   {
    "duration": 23,
    "start_time": "2024-09-02T15:07:18.671Z"
   },
   {
    "duration": 27,
    "start_time": "2024-09-02T15:07:53.898Z"
   },
   {
    "duration": 25,
    "start_time": "2024-09-02T15:08:00.266Z"
   },
   {
    "duration": 68,
    "start_time": "2024-09-02T15:08:31.004Z"
   },
   {
    "duration": 76,
    "start_time": "2024-09-02T15:08:45.760Z"
   },
   {
    "duration": 53,
    "start_time": "2024-09-02T15:10:36.965Z"
   },
   {
    "duration": 15,
    "start_time": "2024-09-02T15:11:39.550Z"
   },
   {
    "duration": 18,
    "start_time": "2024-09-02T15:12:32.675Z"
   },
   {
    "duration": 17,
    "start_time": "2024-09-02T15:12:42.975Z"
   },
   {
    "duration": 59,
    "start_time": "2024-09-02T15:13:07.294Z"
   },
   {
    "duration": 231,
    "start_time": "2024-09-02T15:13:38.701Z"
   },
   {
    "duration": 170,
    "start_time": "2024-09-02T15:14:27.609Z"
   },
   {
    "duration": 211,
    "start_time": "2024-09-02T15:15:32.688Z"
   },
   {
    "duration": 22,
    "start_time": "2024-09-02T15:22:39.275Z"
   },
   {
    "duration": 222,
    "start_time": "2024-09-02T15:26:51.298Z"
   },
   {
    "duration": 110,
    "start_time": "2024-09-02T15:27:06.149Z"
   },
   {
    "duration": 39,
    "start_time": "2024-09-02T15:27:37.550Z"
   },
   {
    "duration": 28,
    "start_time": "2024-09-02T15:27:52.661Z"
   },
   {
    "duration": 30,
    "start_time": "2024-09-02T15:28:27.564Z"
   },
   {
    "duration": 26,
    "start_time": "2024-09-02T15:28:58.304Z"
   },
   {
    "duration": 303,
    "start_time": "2024-09-02T15:30:15.292Z"
   },
   {
    "duration": 72,
    "start_time": "2024-09-02T15:30:29.121Z"
   },
   {
    "duration": 4,
    "start_time": "2024-09-02T15:30:48.893Z"
   },
   {
    "duration": 31,
    "start_time": "2024-09-02T15:30:58.114Z"
   },
   {
    "duration": 41,
    "start_time": "2024-09-02T15:32:07.576Z"
   },
   {
    "duration": 8,
    "start_time": "2024-09-02T15:42:32.827Z"
   },
   {
    "duration": 8,
    "start_time": "2024-09-02T15:45:05.164Z"
   },
   {
    "duration": 8,
    "start_time": "2024-09-02T15:45:14.944Z"
   },
   {
    "duration": 84,
    "start_time": "2024-09-02T19:39:26.797Z"
   },
   {
    "duration": 18,
    "start_time": "2024-09-02T19:39:35.489Z"
   },
   {
    "duration": 10,
    "start_time": "2024-09-02T19:39:55.603Z"
   },
   {
    "duration": 252,
    "start_time": "2024-09-02T19:43:28.824Z"
   },
   {
    "duration": 13,
    "start_time": "2024-09-02T19:45:01.386Z"
   },
   {
    "duration": 11,
    "start_time": "2024-09-02T19:45:12.694Z"
   },
   {
    "duration": 12,
    "start_time": "2024-09-02T19:46:51.464Z"
   },
   {
    "duration": 11,
    "start_time": "2024-09-02T19:47:02.389Z"
   },
   {
    "duration": 71,
    "start_time": "2024-09-02T19:47:21.593Z"
   },
   {
    "duration": 9,
    "start_time": "2024-09-02T19:49:16.798Z"
   },
   {
    "duration": 65,
    "start_time": "2024-09-02T19:49:52.671Z"
   },
   {
    "duration": 65,
    "start_time": "2024-09-02T19:50:12.809Z"
   },
   {
    "duration": 13,
    "start_time": "2024-09-02T19:51:37.139Z"
   },
   {
    "duration": 70,
    "start_time": "2024-09-02T19:51:48.315Z"
   },
   {
    "duration": 4,
    "start_time": "2024-09-02T19:56:05.707Z"
   },
   {
    "duration": 6,
    "start_time": "2024-09-02T19:56:44.375Z"
   },
   {
    "duration": 27,
    "start_time": "2024-09-02T19:58:30.152Z"
   },
   {
    "duration": 10,
    "start_time": "2024-09-02T19:58:48.740Z"
   },
   {
    "duration": 143,
    "start_time": "2024-09-02T19:59:37.526Z"
   },
   {
    "duration": 12,
    "start_time": "2024-09-02T19:59:55.395Z"
   },
   {
    "duration": 12,
    "start_time": "2024-09-02T20:00:24.690Z"
   },
   {
    "duration": 4,
    "start_time": "2024-09-02T20:00:40.368Z"
   },
   {
    "duration": 7,
    "start_time": "2024-09-02T20:00:46.239Z"
   },
   {
    "duration": 15,
    "start_time": "2024-09-02T20:06:35.988Z"
   },
   {
    "duration": 10,
    "start_time": "2024-09-02T20:06:47.694Z"
   },
   {
    "duration": 19,
    "start_time": "2024-09-02T20:08:16.374Z"
   },
   {
    "duration": 9,
    "start_time": "2024-09-02T20:14:28.514Z"
   },
   {
    "duration": 13,
    "start_time": "2024-09-02T20:15:57.478Z"
   },
   {
    "duration": 7,
    "start_time": "2024-09-02T20:16:12.457Z"
   },
   {
    "duration": 36,
    "start_time": "2024-09-02T20:26:03.048Z"
   },
   {
    "duration": 9,
    "start_time": "2024-09-02T20:26:13.523Z"
   },
   {
    "duration": 9,
    "start_time": "2024-09-02T20:28:21.746Z"
   },
   {
    "duration": 4,
    "start_time": "2024-09-02T20:28:42.258Z"
   },
   {
    "duration": 11,
    "start_time": "2024-09-02T20:33:44.179Z"
   },
   {
    "duration": 13,
    "start_time": "2024-09-02T20:37:43.177Z"
   },
   {
    "duration": 12,
    "start_time": "2024-09-02T20:47:00.960Z"
   },
   {
    "duration": 21,
    "start_time": "2024-09-02T20:49:23.888Z"
   },
   {
    "duration": 20,
    "start_time": "2024-09-02T20:49:38.491Z"
   },
   {
    "duration": 23,
    "start_time": "2024-09-02T20:51:31.385Z"
   },
   {
    "duration": 22,
    "start_time": "2024-09-02T20:51:46.693Z"
   },
   {
    "duration": 4,
    "start_time": "2024-09-02T21:03:48.504Z"
   },
   {
    "duration": 2491,
    "start_time": "2024-09-03T13:58:15.617Z"
   },
   {
    "duration": 471,
    "start_time": "2024-09-03T13:58:18.110Z"
   },
   {
    "duration": 41,
    "start_time": "2024-09-03T13:58:18.583Z"
   },
   {
    "duration": 6,
    "start_time": "2024-09-03T13:58:18.626Z"
   },
   {
    "duration": 155,
    "start_time": "2024-09-03T13:58:18.634Z"
   },
   {
    "duration": 15,
    "start_time": "2024-09-03T13:58:18.791Z"
   },
   {
    "duration": 80,
    "start_time": "2024-09-03T13:58:18.809Z"
   },
   {
    "duration": 10,
    "start_time": "2024-09-03T13:58:18.891Z"
   },
   {
    "duration": 5,
    "start_time": "2024-09-03T13:58:18.902Z"
   },
   {
    "duration": 14,
    "start_time": "2024-09-03T13:58:18.910Z"
   },
   {
    "duration": 4,
    "start_time": "2024-09-03T13:58:18.926Z"
   },
   {
    "duration": 8,
    "start_time": "2024-09-03T13:58:18.931Z"
   },
   {
    "duration": 8,
    "start_time": "2024-09-03T13:58:18.940Z"
   },
   {
    "duration": 5,
    "start_time": "2024-09-03T13:58:18.986Z"
   },
   {
    "duration": 8,
    "start_time": "2024-09-03T13:58:18.992Z"
   },
   {
    "duration": 4,
    "start_time": "2024-09-03T13:58:19.002Z"
   },
   {
    "duration": 4,
    "start_time": "2024-09-03T13:58:19.007Z"
   },
   {
    "duration": 14,
    "start_time": "2024-09-03T13:58:19.013Z"
   },
   {
    "duration": 5,
    "start_time": "2024-09-03T13:58:19.028Z"
   },
   {
    "duration": 165,
    "start_time": "2024-09-03T13:58:19.035Z"
   },
   {
    "duration": 6,
    "start_time": "2024-09-03T13:58:19.202Z"
   },
   {
    "duration": 194,
    "start_time": "2024-09-03T13:58:19.209Z"
   },
   {
    "duration": 23,
    "start_time": "2024-09-03T13:58:19.405Z"
   },
   {
    "duration": 74,
    "start_time": "2024-09-03T13:58:19.430Z"
   },
   {
    "duration": 12,
    "start_time": "2024-09-03T13:58:19.506Z"
   },
   {
    "duration": 213,
    "start_time": "2024-09-03T13:58:19.520Z"
   },
   {
    "duration": 5,
    "start_time": "2024-09-03T13:58:19.735Z"
   },
   {
    "duration": 3,
    "start_time": "2024-09-03T13:58:19.745Z"
   },
   {
    "duration": 13,
    "start_time": "2024-09-03T13:58:19.750Z"
   },
   {
    "duration": 25,
    "start_time": "2024-09-03T13:58:19.765Z"
   },
   {
    "duration": 53,
    "start_time": "2024-09-03T13:58:19.792Z"
   },
   {
    "duration": 6,
    "start_time": "2024-09-03T13:58:19.847Z"
   },
   {
    "duration": 606,
    "start_time": "2024-09-03T13:58:19.854Z"
   },
   {
    "duration": 0,
    "start_time": "2024-09-03T13:58:20.462Z"
   },
   {
    "duration": 0,
    "start_time": "2024-09-03T13:58:20.464Z"
   },
   {
    "duration": 0,
    "start_time": "2024-09-03T13:58:20.465Z"
   },
   {
    "duration": 0,
    "start_time": "2024-09-03T13:58:20.466Z"
   },
   {
    "duration": 0,
    "start_time": "2024-09-03T13:58:20.467Z"
   },
   {
    "duration": 0,
    "start_time": "2024-09-03T13:58:20.468Z"
   },
   {
    "duration": 0,
    "start_time": "2024-09-03T13:58:20.486Z"
   },
   {
    "duration": 0,
    "start_time": "2024-09-03T13:58:20.488Z"
   },
   {
    "duration": 0,
    "start_time": "2024-09-03T13:58:20.489Z"
   },
   {
    "duration": 0,
    "start_time": "2024-09-03T13:58:20.490Z"
   },
   {
    "duration": 0,
    "start_time": "2024-09-03T13:58:20.492Z"
   },
   {
    "duration": 0,
    "start_time": "2024-09-03T13:58:20.493Z"
   },
   {
    "duration": 0,
    "start_time": "2024-09-03T13:58:20.494Z"
   },
   {
    "duration": 0,
    "start_time": "2024-09-03T13:58:20.495Z"
   },
   {
    "duration": 0,
    "start_time": "2024-09-03T13:58:20.497Z"
   },
   {
    "duration": 0,
    "start_time": "2024-09-03T13:58:20.498Z"
   },
   {
    "duration": 0,
    "start_time": "2024-09-03T13:58:20.499Z"
   },
   {
    "duration": 0,
    "start_time": "2024-09-03T13:58:20.500Z"
   },
   {
    "duration": 0,
    "start_time": "2024-09-03T13:58:20.502Z"
   },
   {
    "duration": 52,
    "start_time": "2024-09-03T13:59:39.237Z"
   },
   {
    "duration": 27,
    "start_time": "2024-09-03T13:59:40.854Z"
   },
   {
    "duration": 12,
    "start_time": "2024-09-03T14:02:46.192Z"
   },
   {
    "duration": 11,
    "start_time": "2024-09-03T14:02:48.373Z"
   },
   {
    "duration": 11,
    "start_time": "2024-09-03T14:02:52.819Z"
   },
   {
    "duration": 198,
    "start_time": "2024-09-03T14:02:53.358Z"
   },
   {
    "duration": 23,
    "start_time": "2024-09-03T14:02:53.852Z"
   },
   {
    "duration": 40,
    "start_time": "2024-09-03T14:02:54.303Z"
   },
   {
    "duration": 81,
    "start_time": "2024-09-03T14:02:54.758Z"
   },
   {
    "duration": 15,
    "start_time": "2024-09-03T14:02:55.346Z"
   },
   {
    "duration": 8,
    "start_time": "2024-09-03T14:03:47.980Z"
   },
   {
    "duration": 8,
    "start_time": "2024-09-03T14:04:18.301Z"
   },
   {
    "duration": 16,
    "start_time": "2024-09-03T14:04:24.291Z"
   },
   {
    "duration": 8,
    "start_time": "2024-09-03T14:04:25.431Z"
   },
   {
    "duration": 6,
    "start_time": "2024-09-03T14:04:25.848Z"
   },
   {
    "duration": 10,
    "start_time": "2024-09-03T14:04:26.351Z"
   },
   {
    "duration": 4,
    "start_time": "2024-09-03T14:04:26.791Z"
   },
   {
    "duration": 10,
    "start_time": "2024-09-03T14:04:27.289Z"
   },
   {
    "duration": 9,
    "start_time": "2024-09-03T14:04:27.789Z"
   },
   {
    "duration": 11,
    "start_time": "2024-09-03T14:04:28.243Z"
   },
   {
    "duration": 20,
    "start_time": "2024-09-03T14:04:28.771Z"
   },
   {
    "duration": 5,
    "start_time": "2024-09-03T14:04:29.272Z"
   },
   {
    "duration": 13,
    "start_time": "2024-09-03T14:11:04.810Z"
   },
   {
    "duration": 6,
    "start_time": "2024-09-03T14:11:09.400Z"
   },
   {
    "duration": 9,
    "start_time": "2024-09-03T14:11:25.866Z"
   },
   {
    "duration": 7,
    "start_time": "2024-09-03T14:13:07.742Z"
   },
   {
    "duration": 6,
    "start_time": "2024-09-03T14:13:26.288Z"
   },
   {
    "duration": 14,
    "start_time": "2024-09-03T14:15:12.416Z"
   },
   {
    "duration": 12,
    "start_time": "2024-09-03T14:16:43.494Z"
   },
   {
    "duration": 6,
    "start_time": "2024-09-03T14:23:56.208Z"
   },
   {
    "duration": 9,
    "start_time": "2024-09-03T14:24:06.578Z"
   },
   {
    "duration": 8,
    "start_time": "2024-09-03T14:24:18.000Z"
   },
   {
    "duration": 8,
    "start_time": "2024-09-03T14:25:11.417Z"
   },
   {
    "duration": 13,
    "start_time": "2024-09-03T14:25:30.204Z"
   },
   {
    "duration": 6,
    "start_time": "2024-09-03T14:26:14.496Z"
   },
   {
    "duration": 13,
    "start_time": "2024-09-03T14:26:17.521Z"
   },
   {
    "duration": 6,
    "start_time": "2024-09-03T14:27:25.341Z"
   },
   {
    "duration": 4,
    "start_time": "2024-09-03T14:28:34.051Z"
   },
   {
    "duration": 13,
    "start_time": "2024-09-03T14:28:49.365Z"
   },
   {
    "duration": 8,
    "start_time": "2024-09-03T14:30:43.167Z"
   },
   {
    "duration": 4,
    "start_time": "2024-09-03T14:32:53.162Z"
   },
   {
    "duration": 3,
    "start_time": "2024-09-03T14:33:13.353Z"
   },
   {
    "duration": 5,
    "start_time": "2024-09-03T14:34:36.817Z"
   },
   {
    "duration": 10,
    "start_time": "2024-09-03T14:36:08.087Z"
   },
   {
    "duration": 4,
    "start_time": "2024-09-03T14:37:17.026Z"
   },
   {
    "duration": 126,
    "start_time": "2024-09-03T14:57:12.792Z"
   },
   {
    "duration": 4,
    "start_time": "2024-09-03T14:58:18.561Z"
   },
   {
    "duration": 10,
    "start_time": "2024-09-03T14:58:27.240Z"
   },
   {
    "duration": 18,
    "start_time": "2024-09-03T15:01:09.758Z"
   },
   {
    "duration": 2618,
    "start_time": "2024-09-04T14:10:42.867Z"
   },
   {
    "duration": 503,
    "start_time": "2024-09-04T14:10:45.487Z"
   },
   {
    "duration": 4,
    "start_time": "2024-09-04T14:14:21.678Z"
   },
   {
    "duration": 222,
    "start_time": "2024-09-04T14:14:59.268Z"
   },
   {
    "duration": 4,
    "start_time": "2024-09-04T14:16:13.862Z"
   },
   {
    "duration": 20,
    "start_time": "2024-09-04T14:16:59.841Z"
   },
   {
    "duration": 15,
    "start_time": "2024-09-04T14:17:34.544Z"
   },
   {
    "duration": 799,
    "start_time": "2024-09-04T14:17:55.801Z"
   },
   {
    "duration": 353,
    "start_time": "2024-09-04T14:17:56.665Z"
   },
   {
    "duration": 47,
    "start_time": "2024-09-04T14:17:58.286Z"
   },
   {
    "duration": 6,
    "start_time": "2024-09-04T14:17:59.277Z"
   },
   {
    "duration": 7,
    "start_time": "2024-09-04T14:18:01.877Z"
   },
   {
    "duration": 8,
    "start_time": "2024-09-04T14:19:50.543Z"
   },
   {
    "duration": 141,
    "start_time": "2024-09-04T14:20:26.675Z"
   },
   {
    "duration": 15,
    "start_time": "2024-09-04T14:20:33.155Z"
   },
   {
    "duration": 71,
    "start_time": "2024-09-04T14:20:56.222Z"
   },
   {
    "duration": 5,
    "start_time": "2024-09-04T14:22:05.032Z"
   },
   {
    "duration": 7,
    "start_time": "2024-09-04T14:23:08.919Z"
   },
   {
    "duration": 264,
    "start_time": "2024-09-04T14:23:37.922Z"
   },
   {
    "duration": 8,
    "start_time": "2024-09-04T14:23:49.301Z"
   },
   {
    "duration": 8,
    "start_time": "2024-09-04T14:24:55.738Z"
   },
   {
    "duration": 7,
    "start_time": "2024-09-04T14:25:10.150Z"
   },
   {
    "duration": 9,
    "start_time": "2024-09-04T14:25:26.337Z"
   },
   {
    "duration": 10,
    "start_time": "2024-09-04T14:40:05.499Z"
   },
   {
    "duration": 6,
    "start_time": "2024-09-04T14:40:07.274Z"
   },
   {
    "duration": 571,
    "start_time": "2024-09-04T14:40:38.073Z"
   },
   {
    "duration": 6,
    "start_time": "2024-09-04T14:40:48.033Z"
   },
   {
    "duration": 7,
    "start_time": "2024-09-04T14:41:07.727Z"
   },
   {
    "duration": 18,
    "start_time": "2024-09-04T14:41:24.568Z"
   },
   {
    "duration": 3,
    "start_time": "2024-09-04T14:51:44.132Z"
   },
   {
    "duration": 6,
    "start_time": "2024-09-04T14:54:44.658Z"
   },
   {
    "duration": 122,
    "start_time": "2024-09-04T14:55:10.347Z"
   },
   {
    "duration": 6,
    "start_time": "2024-09-04T14:55:16.079Z"
   },
   {
    "duration": 27,
    "start_time": "2024-09-04T15:13:29.811Z"
   },
   {
    "duration": 88,
    "start_time": "2024-09-04T15:22:39.899Z"
   },
   {
    "duration": 87,
    "start_time": "2024-09-04T15:25:21.108Z"
   },
   {
    "duration": 81,
    "start_time": "2024-09-04T15:25:53.684Z"
   },
   {
    "duration": 10,
    "start_time": "2024-09-04T15:28:29.496Z"
   },
   {
    "duration": 199,
    "start_time": "2024-09-04T15:28:38.902Z"
   },
   {
    "duration": 41,
    "start_time": "2024-09-04T15:32:59.316Z"
   },
   {
    "duration": 63,
    "start_time": "2024-09-04T15:33:43.470Z"
   },
   {
    "duration": 18,
    "start_time": "2024-09-04T15:36:41.984Z"
   },
   {
    "duration": 65,
    "start_time": "2024-09-04T15:37:20.674Z"
   },
   {
    "duration": 163,
    "start_time": "2024-09-04T15:37:26.091Z"
   },
   {
    "duration": 209,
    "start_time": "2024-09-04T15:37:53.507Z"
   },
   {
    "duration": 55,
    "start_time": "2024-09-04T15:38:00.190Z"
   },
   {
    "duration": 152,
    "start_time": "2024-09-04T15:38:33.514Z"
   },
   {
    "duration": 20,
    "start_time": "2024-09-04T19:22:37.708Z"
   },
   {
    "duration": 5,
    "start_time": "2024-09-04T19:22:38.561Z"
   },
   {
    "duration": 38,
    "start_time": "2024-09-04T19:26:20.471Z"
   },
   {
    "duration": 13,
    "start_time": "2024-09-04T19:27:17.802Z"
   },
   {
    "duration": 9,
    "start_time": "2024-09-04T19:40:47.659Z"
   },
   {
    "duration": 16,
    "start_time": "2024-09-04T19:43:24.206Z"
   },
   {
    "duration": 252,
    "start_time": "2024-09-04T19:43:55.749Z"
   },
   {
    "duration": 1047,
    "start_time": "2024-09-04T19:45:17.388Z"
   },
   {
    "duration": 990,
    "start_time": "2024-09-04T19:45:52.338Z"
   },
   {
    "duration": 279,
    "start_time": "2024-09-04T19:50:10.733Z"
   },
   {
    "duration": 221,
    "start_time": "2024-09-04T19:50:44.400Z"
   },
   {
    "duration": 303,
    "start_time": "2024-09-04T19:51:27.878Z"
   },
   {
    "duration": 273,
    "start_time": "2024-09-04T19:51:37.519Z"
   },
   {
    "duration": 18,
    "start_time": "2024-09-04T20:00:00.947Z"
   },
   {
    "duration": 14,
    "start_time": "2024-09-04T20:00:12.351Z"
   },
   {
    "duration": 85,
    "start_time": "2024-09-04T20:00:59.378Z"
   },
   {
    "duration": 11,
    "start_time": "2024-09-04T20:02:20.866Z"
   },
   {
    "duration": 26,
    "start_time": "2024-09-04T20:02:44.039Z"
   },
   {
    "duration": 8,
    "start_time": "2024-09-04T20:03:32.461Z"
   },
   {
    "duration": 52,
    "start_time": "2024-09-04T20:04:58.595Z"
   },
   {
    "duration": 52,
    "start_time": "2024-09-04T20:06:28.645Z"
   },
   {
    "duration": 16,
    "start_time": "2024-09-04T20:07:35.026Z"
   },
   {
    "duration": 45,
    "start_time": "2024-09-04T20:07:44.424Z"
   },
   {
    "duration": 441,
    "start_time": "2024-09-04T20:08:42.150Z"
   },
   {
    "duration": 35,
    "start_time": "2024-09-04T20:09:58.188Z"
   },
   {
    "duration": 10,
    "start_time": "2024-09-04T20:10:12.622Z"
   },
   {
    "duration": 9,
    "start_time": "2024-09-04T20:13:38.383Z"
   },
   {
    "duration": 7,
    "start_time": "2024-09-04T20:14:02.974Z"
   },
   {
    "duration": 13,
    "start_time": "2024-09-04T20:15:51.217Z"
   },
   {
    "duration": 13,
    "start_time": "2024-09-04T20:17:29.877Z"
   },
   {
    "duration": 62,
    "start_time": "2024-09-04T20:18:54.541Z"
   },
   {
    "duration": 226,
    "start_time": "2024-09-04T20:19:09.110Z"
   },
   {
    "duration": 268,
    "start_time": "2024-09-04T20:21:07.403Z"
   },
   {
    "duration": 944,
    "start_time": "2024-09-04T20:21:49.729Z"
   },
   {
    "duration": 38,
    "start_time": "2024-09-04T20:23:33.280Z"
   },
   {
    "duration": 45,
    "start_time": "2024-09-04T20:23:41.191Z"
   },
   {
    "duration": 43,
    "start_time": "2024-09-04T20:25:12.577Z"
   },
   {
    "duration": 11,
    "start_time": "2024-09-04T20:25:22.889Z"
   },
   {
    "duration": 11,
    "start_time": "2024-09-04T20:28:09.285Z"
   },
   {
    "duration": 10,
    "start_time": "2024-09-04T20:32:34.883Z"
   },
   {
    "duration": 31,
    "start_time": "2024-09-04T20:34:26.244Z"
   },
   {
    "duration": 814,
    "start_time": "2024-09-04T20:36:14.786Z"
   },
   {
    "duration": 409,
    "start_time": "2024-09-04T20:36:15.602Z"
   },
   {
    "duration": 48,
    "start_time": "2024-09-04T20:36:16.290Z"
   },
   {
    "duration": 7,
    "start_time": "2024-09-04T20:36:16.626Z"
   },
   {
    "duration": 9,
    "start_time": "2024-09-04T20:36:16.941Z"
   },
   {
    "duration": 201,
    "start_time": "2024-09-04T20:36:17.281Z"
   },
   {
    "duration": 17,
    "start_time": "2024-09-04T20:36:17.645Z"
   },
   {
    "duration": 82,
    "start_time": "2024-09-04T20:36:18.074Z"
   },
   {
    "duration": 8,
    "start_time": "2024-09-04T20:36:18.441Z"
   },
   {
    "duration": 14,
    "start_time": "2024-09-04T20:36:20.175Z"
   },
   {
    "duration": 7,
    "start_time": "2024-09-04T20:36:20.610Z"
   },
   {
    "duration": 6,
    "start_time": "2024-09-04T20:36:21.036Z"
   },
   {
    "duration": 31,
    "start_time": "2024-09-04T20:36:21.509Z"
   },
   {
    "duration": 6,
    "start_time": "2024-09-04T20:36:21.991Z"
   },
   {
    "duration": 10,
    "start_time": "2024-09-04T20:36:22.582Z"
   },
   {
    "duration": 9,
    "start_time": "2024-09-04T20:36:24.464Z"
   },
   {
    "duration": 7,
    "start_time": "2024-09-04T20:36:24.891Z"
   },
   {
    "duration": 12,
    "start_time": "2024-09-04T20:36:25.381Z"
   },
   {
    "duration": 6,
    "start_time": "2024-09-04T20:36:25.833Z"
   },
   {
    "duration": 5,
    "start_time": "2024-09-04T20:36:26.705Z"
   },
   {
    "duration": 3,
    "start_time": "2024-09-04T20:36:27.492Z"
   },
   {
    "duration": 5,
    "start_time": "2024-09-04T20:36:30.550Z"
   },
   {
    "duration": 125,
    "start_time": "2024-09-04T20:36:31.291Z"
   },
   {
    "duration": 8,
    "start_time": "2024-09-04T20:36:32.302Z"
   },
   {
    "duration": 194,
    "start_time": "2024-09-04T20:36:33.048Z"
   },
   {
    "duration": 25,
    "start_time": "2024-09-04T20:36:36.474Z"
   },
   {
    "duration": 82,
    "start_time": "2024-09-04T20:36:37.361Z"
   },
   {
    "duration": 9,
    "start_time": "2024-09-04T20:36:56.914Z"
   },
   {
    "duration": 193,
    "start_time": "2024-09-04T20:36:57.564Z"
   },
   {
    "duration": 7,
    "start_time": "2024-09-04T20:36:58.155Z"
   },
   {
    "duration": 328,
    "start_time": "2024-09-04T20:37:03.271Z"
   },
   {
    "duration": 66,
    "start_time": "2024-09-04T20:37:19.034Z"
   },
   {
    "duration": 50,
    "start_time": "2024-09-04T20:37:22.884Z"
   },
   {
    "duration": 127,
    "start_time": "2024-09-04T20:37:24.849Z"
   },
   {
    "duration": 6,
    "start_time": "2024-09-04T20:37:28.196Z"
   },
   {
    "duration": 14,
    "start_time": "2024-09-04T20:37:36.898Z"
   },
   {
    "duration": 5,
    "start_time": "2024-09-04T20:37:37.500Z"
   },
   {
    "duration": 53,
    "start_time": "2024-09-04T20:37:40.830Z"
   },
   {
    "duration": 55,
    "start_time": "2024-09-04T20:37:59.008Z"
   },
   {
    "duration": 12,
    "start_time": "2024-09-04T20:38:11.805Z"
   },
   {
    "duration": 11,
    "start_time": "2024-09-04T20:38:23.121Z"
   },
   {
    "duration": 153,
    "start_time": "2024-09-04T20:38:35.843Z"
   },
   {
    "duration": 259,
    "start_time": "2024-09-04T20:39:30.251Z"
   },
   {
    "duration": 926,
    "start_time": "2024-09-04T20:39:53.625Z"
   },
   {
    "duration": 62,
    "start_time": "2024-09-04T20:43:14.837Z"
   },
   {
    "duration": 59,
    "start_time": "2024-09-04T20:44:07.863Z"
   },
   {
    "duration": 7,
    "start_time": "2024-09-04T20:47:01.806Z"
   },
   {
    "duration": 5,
    "start_time": "2024-09-04T20:49:25.485Z"
   },
   {
    "duration": 426,
    "start_time": "2024-09-04T20:49:38.459Z"
   },
   {
    "duration": 62,
    "start_time": "2024-09-04T20:50:08.540Z"
   },
   {
    "duration": 144,
    "start_time": "2024-09-04T20:52:26.676Z"
   },
   {
    "duration": 39,
    "start_time": "2024-09-04T20:52:53.481Z"
   },
   {
    "duration": 17,
    "start_time": "2024-09-04T20:53:11.212Z"
   },
   {
    "duration": 37,
    "start_time": "2024-09-04T20:53:21.771Z"
   },
   {
    "duration": 4,
    "start_time": "2024-09-04T20:55:58.360Z"
   },
   {
    "duration": 90,
    "start_time": "2024-09-04T20:56:15.416Z"
   },
   {
    "duration": 83,
    "start_time": "2024-09-04T20:59:34.819Z"
   },
   {
    "duration": 93,
    "start_time": "2024-09-04T21:00:15.739Z"
   },
   {
    "duration": 68,
    "start_time": "2024-09-04T21:00:26.095Z"
   },
   {
    "duration": 15,
    "start_time": "2024-09-04T21:00:41.655Z"
   },
   {
    "duration": 26,
    "start_time": "2024-09-04T21:16:07.198Z"
   },
   {
    "duration": 16,
    "start_time": "2024-09-04T21:16:40.191Z"
   },
   {
    "duration": 16,
    "start_time": "2024-09-04T21:17:10.601Z"
   },
   {
    "duration": 122,
    "start_time": "2024-09-04T21:17:46.734Z"
   },
   {
    "duration": 115,
    "start_time": "2024-09-04T21:18:19.211Z"
   },
   {
    "duration": 103,
    "start_time": "2024-09-04T21:18:37.536Z"
   },
   {
    "duration": 10,
    "start_time": "2024-09-04T21:25:09.048Z"
   },
   {
    "duration": 11,
    "start_time": "2024-09-04T21:28:38.697Z"
   },
   {
    "duration": 152,
    "start_time": "2024-09-04T21:29:46.068Z"
   },
   {
    "duration": 2610,
    "start_time": "2024-09-05T20:04:06.451Z"
   },
   {
    "duration": 496,
    "start_time": "2024-09-05T20:04:09.063Z"
   },
   {
    "duration": 39,
    "start_time": "2024-09-05T20:04:09.561Z"
   },
   {
    "duration": 6,
    "start_time": "2024-09-05T20:04:09.602Z"
   },
   {
    "duration": 7,
    "start_time": "2024-09-05T20:04:09.781Z"
   },
   {
    "duration": 135,
    "start_time": "2024-09-05T20:04:10.368Z"
   },
   {
    "duration": 15,
    "start_time": "2024-09-05T20:04:11.197Z"
   },
   {
    "duration": 71,
    "start_time": "2024-09-05T20:04:11.841Z"
   },
   {
    "duration": 8,
    "start_time": "2024-09-05T20:04:12.339Z"
   },
   {
    "duration": 10,
    "start_time": "2024-09-05T20:04:13.749Z"
   },
   {
    "duration": 4,
    "start_time": "2024-09-05T20:04:14.370Z"
   },
   {
    "duration": 6,
    "start_time": "2024-09-05T20:04:14.881Z"
   },
   {
    "duration": 16,
    "start_time": "2024-09-05T20:04:15.356Z"
   },
   {
    "duration": 5,
    "start_time": "2024-09-05T20:04:15.771Z"
   },
   {
    "duration": 7,
    "start_time": "2024-09-05T20:04:16.267Z"
   },
   {
    "duration": 9,
    "start_time": "2024-09-05T20:04:18.014Z"
   },
   {
    "duration": 4,
    "start_time": "2024-09-05T20:04:19.426Z"
   },
   {
    "duration": 10,
    "start_time": "2024-09-05T20:04:20.403Z"
   },
   {
    "duration": 4,
    "start_time": "2024-09-05T20:04:21.149Z"
   },
   {
    "duration": 5,
    "start_time": "2024-09-05T20:04:21.749Z"
   },
   {
    "duration": 3,
    "start_time": "2024-09-05T20:04:22.362Z"
   },
   {
    "duration": 5,
    "start_time": "2024-09-05T20:04:24.887Z"
   },
   {
    "duration": 118,
    "start_time": "2024-09-05T20:04:25.554Z"
   },
   {
    "duration": 5,
    "start_time": "2024-09-05T20:04:26.240Z"
   },
   {
    "duration": 194,
    "start_time": "2024-09-05T20:04:33.982Z"
   },
   {
    "duration": 24,
    "start_time": "2024-09-05T20:04:46.699Z"
   },
   {
    "duration": 80,
    "start_time": "2024-09-05T20:04:47.467Z"
   },
   {
    "duration": 9,
    "start_time": "2024-09-05T20:05:13.954Z"
   },
   {
    "duration": 184,
    "start_time": "2024-09-05T20:05:14.492Z"
   },
   {
    "duration": 6,
    "start_time": "2024-09-05T20:05:15.010Z"
   },
   {
    "duration": 71,
    "start_time": "2024-09-05T20:05:21.274Z"
   },
   {
    "duration": 49,
    "start_time": "2024-09-05T20:05:24.342Z"
   },
   {
    "duration": 144,
    "start_time": "2024-09-05T20:05:25.915Z"
   },
   {
    "duration": 5,
    "start_time": "2024-09-05T20:05:29.959Z"
   },
   {
    "duration": 17,
    "start_time": "2024-09-05T20:05:52.162Z"
   },
   {
    "duration": 5,
    "start_time": "2024-09-05T20:05:52.882Z"
   },
   {
    "duration": 56,
    "start_time": "2024-09-05T20:05:53.436Z"
   },
   {
    "duration": 51,
    "start_time": "2024-09-05T20:05:55.960Z"
   },
   {
    "duration": 12,
    "start_time": "2024-09-05T20:06:07.676Z"
   },
   {
    "duration": 10,
    "start_time": "2024-09-05T20:06:11.192Z"
   },
   {
    "duration": 139,
    "start_time": "2024-09-05T20:06:13.402Z"
   },
   {
    "duration": 266,
    "start_time": "2024-09-05T20:06:14.527Z"
   },
   {
    "duration": 937,
    "start_time": "2024-09-05T20:06:15.208Z"
   },
   {
    "duration": 87,
    "start_time": "2024-09-05T20:06:17.098Z"
   },
   {
    "duration": 6,
    "start_time": "2024-09-05T20:18:19.244Z"
   },
   {
    "duration": 10,
    "start_time": "2024-09-05T20:22:03.112Z"
   },
   {
    "duration": 213,
    "start_time": "2024-09-05T20:25:13.976Z"
   },
   {
    "duration": 17,
    "start_time": "2024-09-05T20:25:20.394Z"
   },
   {
    "duration": 167,
    "start_time": "2024-09-05T20:25:21.031Z"
   },
   {
    "duration": 159,
    "start_time": "2024-09-05T20:27:58.531Z"
   },
   {
    "duration": 378,
    "start_time": "2024-09-05T20:39:04.526Z"
   },
   {
    "duration": 8,
    "start_time": "2024-09-05T20:40:09.348Z"
   },
   {
    "duration": 11,
    "start_time": "2024-09-05T20:41:27.113Z"
   },
   {
    "duration": 6,
    "start_time": "2024-09-05T20:41:41.834Z"
   },
   {
    "duration": 11,
    "start_time": "2024-09-05T20:44:52.572Z"
   },
   {
    "duration": 111,
    "start_time": "2024-09-05T20:45:19.241Z"
   },
   {
    "duration": 8,
    "start_time": "2024-09-05T20:45:55.887Z"
   },
   {
    "duration": 17,
    "start_time": "2024-09-05T20:46:19.289Z"
   },
   {
    "duration": 6,
    "start_time": "2024-09-05T20:46:29.584Z"
   },
   {
    "duration": 59,
    "start_time": "2024-09-05T20:46:54.628Z"
   },
   {
    "duration": 59,
    "start_time": "2024-09-05T20:48:48.020Z"
   },
   {
    "duration": 14,
    "start_time": "2024-09-05T20:58:11.654Z"
   },
   {
    "duration": 9,
    "start_time": "2024-09-05T20:59:21.895Z"
   },
   {
    "duration": 18,
    "start_time": "2024-09-05T21:00:06.965Z"
   },
   {
    "duration": 203,
    "start_time": "2024-09-05T21:05:50.604Z"
   },
   {
    "duration": 41,
    "start_time": "2024-09-05T21:06:32.258Z"
   },
   {
    "duration": 40,
    "start_time": "2024-09-05T21:06:49.531Z"
   },
   {
    "duration": 9,
    "start_time": "2024-09-05T21:07:07.962Z"
   },
   {
    "duration": 13,
    "start_time": "2024-09-05T21:07:35.189Z"
   },
   {
    "duration": 10,
    "start_time": "2024-09-05T21:07:40.907Z"
   },
   {
    "duration": 9,
    "start_time": "2024-09-05T21:07:50.564Z"
   },
   {
    "duration": 10,
    "start_time": "2024-09-05T21:08:26.430Z"
   },
   {
    "duration": 10,
    "start_time": "2024-09-05T21:09:04.573Z"
   },
   {
    "duration": 15,
    "start_time": "2024-09-05T21:09:33.406Z"
   },
   {
    "duration": 226,
    "start_time": "2024-09-05T21:22:19.666Z"
   },
   {
    "duration": 953,
    "start_time": "2024-09-05T21:22:45.252Z"
   },
   {
    "duration": 231,
    "start_time": "2024-09-05T21:22:56.882Z"
   },
   {
    "duration": 232,
    "start_time": "2024-09-05T21:23:18.055Z"
   },
   {
    "duration": 721,
    "start_time": "2024-09-05T21:23:47.290Z"
   },
   {
    "duration": 8,
    "start_time": "2024-09-05T21:28:20.026Z"
   },
   {
    "duration": 6,
    "start_time": "2024-09-05T21:28:20.979Z"
   },
   {
    "duration": 9,
    "start_time": "2024-09-05T21:28:40.986Z"
   },
   {
    "duration": 5,
    "start_time": "2024-09-05T21:29:19.782Z"
   },
   {
    "duration": 10,
    "start_time": "2024-09-05T21:32:36.502Z"
   },
   {
    "duration": 14,
    "start_time": "2024-09-05T21:34:54.173Z"
   },
   {
    "duration": 10,
    "start_time": "2024-09-05T21:35:06.726Z"
   },
   {
    "duration": 21,
    "start_time": "2024-09-05T21:35:11.993Z"
   },
   {
    "duration": 9,
    "start_time": "2024-09-05T21:36:07.476Z"
   },
   {
    "duration": 4,
    "start_time": "2024-09-05T21:38:46.162Z"
   },
   {
    "duration": 12,
    "start_time": "2024-09-05T21:38:49.397Z"
   },
   {
    "duration": 9,
    "start_time": "2024-09-05T21:38:56.284Z"
   },
   {
    "duration": 112,
    "start_time": "2024-09-05T21:42:15.130Z"
   },
   {
    "duration": 747,
    "start_time": "2024-09-05T21:42:21.000Z"
   },
   {
    "duration": 12,
    "start_time": "2024-09-05T21:43:09.738Z"
   },
   {
    "duration": 11,
    "start_time": "2024-09-05T21:43:38.929Z"
   },
   {
    "duration": 11,
    "start_time": "2024-09-05T21:45:38.265Z"
   },
   {
    "duration": 64,
    "start_time": "2024-09-05T21:45:49.474Z"
   },
   {
    "duration": 64,
    "start_time": "2024-09-05T21:46:00.111Z"
   },
   {
    "duration": 19,
    "start_time": "2024-09-05T21:46:22.253Z"
   },
   {
    "duration": 4,
    "start_time": "2024-09-05T21:48:25.507Z"
   },
   {
    "duration": 4,
    "start_time": "2024-09-05T21:49:29.166Z"
   },
   {
    "duration": 4,
    "start_time": "2024-09-05T21:49:39.662Z"
   },
   {
    "duration": 4,
    "start_time": "2024-09-05T21:51:54.893Z"
   },
   {
    "duration": 5,
    "start_time": "2024-09-05T21:52:05.176Z"
   },
   {
    "duration": 10,
    "start_time": "2024-09-05T22:02:30.218Z"
   },
   {
    "duration": 5,
    "start_time": "2024-09-05T22:02:31.745Z"
   },
   {
    "duration": 7,
    "start_time": "2024-09-05T22:03:23.164Z"
   },
   {
    "duration": 8,
    "start_time": "2024-09-05T22:03:39.678Z"
   },
   {
    "duration": 19,
    "start_time": "2024-09-05T22:10:47.898Z"
   },
   {
    "duration": 9,
    "start_time": "2024-09-05T22:11:04.002Z"
   },
   {
    "duration": 8,
    "start_time": "2024-09-05T22:11:15.005Z"
   },
   {
    "duration": 10,
    "start_time": "2024-09-05T22:11:28.160Z"
   },
   {
    "duration": 11,
    "start_time": "2024-09-05T22:11:37.847Z"
   },
   {
    "duration": 16,
    "start_time": "2024-09-05T22:13:15.402Z"
   },
   {
    "duration": 17,
    "start_time": "2024-09-05T22:13:34.734Z"
   },
   {
    "duration": 13,
    "start_time": "2024-09-05T22:13:40.480Z"
   },
   {
    "duration": 7,
    "start_time": "2024-09-05T22:19:59.524Z"
   },
   {
    "duration": 6,
    "start_time": "2024-09-05T22:22:11.646Z"
   },
   {
    "duration": 10,
    "start_time": "2024-09-05T22:22:55.803Z"
   },
   {
    "duration": 14,
    "start_time": "2024-09-05T22:23:19.764Z"
   },
   {
    "duration": 5,
    "start_time": "2024-09-05T22:23:27.154Z"
   },
   {
    "duration": 99,
    "start_time": "2024-09-05T22:26:16.645Z"
   },
   {
    "duration": 101,
    "start_time": "2024-09-05T22:26:26.457Z"
   },
   {
    "duration": 101,
    "start_time": "2024-09-05T22:27:52.012Z"
   },
   {
    "duration": 15,
    "start_time": "2024-09-05T22:31:01.630Z"
   },
   {
    "duration": 12,
    "start_time": "2024-09-05T22:31:16.721Z"
   },
   {
    "duration": 823,
    "start_time": "2024-09-05T22:45:51.498Z"
   },
   {
    "duration": 355,
    "start_time": "2024-09-05T22:45:52.323Z"
   },
   {
    "duration": 38,
    "start_time": "2024-09-05T22:45:52.680Z"
   },
   {
    "duration": 5,
    "start_time": "2024-09-05T22:45:52.721Z"
   },
   {
    "duration": 6,
    "start_time": "2024-09-05T22:45:52.728Z"
   },
   {
    "duration": 180,
    "start_time": "2024-09-05T22:45:52.736Z"
   },
   {
    "duration": 14,
    "start_time": "2024-09-05T22:45:52.918Z"
   },
   {
    "duration": 102,
    "start_time": "2024-09-05T22:45:52.934Z"
   },
   {
    "duration": 8,
    "start_time": "2024-09-05T22:45:53.038Z"
   },
   {
    "duration": 23,
    "start_time": "2024-09-05T22:45:53.049Z"
   },
   {
    "duration": 6,
    "start_time": "2024-09-05T22:45:53.074Z"
   },
   {
    "duration": 7,
    "start_time": "2024-09-05T22:45:53.082Z"
   },
   {
    "duration": 16,
    "start_time": "2024-09-05T22:45:53.091Z"
   },
   {
    "duration": 5,
    "start_time": "2024-09-05T22:45:53.108Z"
   },
   {
    "duration": 8,
    "start_time": "2024-09-05T22:45:53.114Z"
   },
   {
    "duration": 46,
    "start_time": "2024-09-05T22:45:53.124Z"
   },
   {
    "duration": 4,
    "start_time": "2024-09-05T22:45:53.173Z"
   },
   {
    "duration": 10,
    "start_time": "2024-09-05T22:45:53.179Z"
   },
   {
    "duration": 6,
    "start_time": "2024-09-05T22:45:53.190Z"
   },
   {
    "duration": 4,
    "start_time": "2024-09-05T22:45:53.198Z"
   },
   {
    "duration": 4,
    "start_time": "2024-09-05T22:45:53.204Z"
   },
   {
    "duration": 8,
    "start_time": "2024-09-05T22:45:53.210Z"
   },
   {
    "duration": 185,
    "start_time": "2024-09-05T22:45:53.220Z"
   },
   {
    "duration": 8,
    "start_time": "2024-09-05T22:45:53.409Z"
   },
   {
    "duration": 213,
    "start_time": "2024-09-05T22:45:53.419Z"
   },
   {
    "duration": 35,
    "start_time": "2024-09-05T22:45:53.635Z"
   },
   {
    "duration": 97,
    "start_time": "2024-09-05T22:45:53.673Z"
   },
   {
    "duration": 15,
    "start_time": "2024-09-05T22:45:53.776Z"
   },
   {
    "duration": 221,
    "start_time": "2024-09-05T22:45:53.794Z"
   },
   {
    "duration": 5,
    "start_time": "2024-09-05T22:45:54.018Z"
   },
   {
    "duration": 78,
    "start_time": "2024-09-05T22:45:54.024Z"
   },
   {
    "duration": 49,
    "start_time": "2024-09-05T22:45:54.104Z"
   },
   {
    "duration": 153,
    "start_time": "2024-09-05T22:45:54.155Z"
   },
   {
    "duration": 4,
    "start_time": "2024-09-05T22:45:54.310Z"
   },
   {
    "duration": 15,
    "start_time": "2024-09-05T22:45:54.316Z"
   },
   {
    "duration": 4,
    "start_time": "2024-09-05T22:45:54.333Z"
   },
   {
    "duration": 74,
    "start_time": "2024-09-05T22:45:54.339Z"
   },
   {
    "duration": 120,
    "start_time": "2024-09-05T22:45:54.416Z"
   },
   {
    "duration": 11,
    "start_time": "2024-09-05T22:45:54.538Z"
   },
   {
    "duration": 21,
    "start_time": "2024-09-05T22:45:54.550Z"
   },
   {
    "duration": 144,
    "start_time": "2024-09-05T22:45:54.573Z"
   },
   {
    "duration": 271,
    "start_time": "2024-09-05T22:45:54.719Z"
   },
   {
    "duration": 956,
    "start_time": "2024-09-05T22:45:54.992Z"
   },
   {
    "duration": 86,
    "start_time": "2024-09-05T22:45:55.950Z"
   },
   {
    "duration": 6,
    "start_time": "2024-09-05T22:45:56.038Z"
   },
   {
    "duration": 25,
    "start_time": "2024-09-05T22:45:56.046Z"
   },
   {
    "duration": 120,
    "start_time": "2024-09-05T22:45:56.073Z"
   },
   {
    "duration": 11,
    "start_time": "2024-09-05T22:45:56.195Z"
   },
   {
    "duration": 181,
    "start_time": "2024-09-05T22:45:56.208Z"
   },
   {
    "duration": 8,
    "start_time": "2024-09-05T22:45:56.391Z"
   },
   {
    "duration": 13,
    "start_time": "2024-09-05T22:45:56.401Z"
   },
   {
    "duration": 10,
    "start_time": "2024-09-05T22:45:56.415Z"
   },
   {
    "duration": 14,
    "start_time": "2024-09-05T22:45:56.426Z"
   },
   {
    "duration": 765,
    "start_time": "2024-09-05T22:45:56.441Z"
   },
   {
    "duration": 11,
    "start_time": "2024-09-05T22:45:57.209Z"
   },
   {
    "duration": 9,
    "start_time": "2024-09-05T22:45:57.221Z"
   },
   {
    "duration": 4,
    "start_time": "2024-09-05T22:45:57.232Z"
   },
   {
    "duration": 235,
    "start_time": "2024-09-05T22:45:57.237Z"
   },
   {
    "duration": 0,
    "start_time": "2024-09-05T22:45:57.474Z"
   },
   {
    "duration": 0,
    "start_time": "2024-09-05T22:45:57.475Z"
   },
   {
    "duration": 0,
    "start_time": "2024-09-05T22:45:57.476Z"
   },
   {
    "duration": 0,
    "start_time": "2024-09-05T22:45:57.478Z"
   },
   {
    "duration": 0,
    "start_time": "2024-09-05T22:45:57.479Z"
   },
   {
    "duration": 0,
    "start_time": "2024-09-05T22:45:57.480Z"
   },
   {
    "duration": 0,
    "start_time": "2024-09-05T22:45:57.481Z"
   },
   {
    "duration": 0,
    "start_time": "2024-09-05T22:45:57.483Z"
   },
   {
    "duration": 0,
    "start_time": "2024-09-05T22:45:57.484Z"
   },
   {
    "duration": 0,
    "start_time": "2024-09-05T22:45:57.485Z"
   },
   {
    "duration": 0,
    "start_time": "2024-09-05T22:45:57.486Z"
   },
   {
    "duration": 0,
    "start_time": "2024-09-05T22:45:57.488Z"
   },
   {
    "duration": 0,
    "start_time": "2024-09-05T22:45:57.489Z"
   },
   {
    "duration": 0,
    "start_time": "2024-09-05T22:45:57.490Z"
   },
   {
    "duration": 0,
    "start_time": "2024-09-05T22:45:57.490Z"
   },
   {
    "duration": 3,
    "start_time": "2024-09-05T22:50:07.196Z"
   },
   {
    "duration": 361,
    "start_time": "2024-09-05T22:50:07.722Z"
   },
   {
    "duration": 42,
    "start_time": "2024-09-05T22:50:09.199Z"
   },
   {
    "duration": 5,
    "start_time": "2024-09-05T22:50:09.747Z"
   },
   {
    "duration": 8,
    "start_time": "2024-09-05T22:50:10.251Z"
   },
   {
    "duration": 129,
    "start_time": "2024-09-05T22:50:10.728Z"
   },
   {
    "duration": 15,
    "start_time": "2024-09-05T22:50:11.265Z"
   },
   {
    "duration": 63,
    "start_time": "2024-09-05T22:50:11.666Z"
   },
   {
    "duration": 7,
    "start_time": "2024-09-05T22:50:12.065Z"
   },
   {
    "duration": 10,
    "start_time": "2024-09-05T22:50:13.496Z"
   },
   {
    "duration": 4,
    "start_time": "2024-09-05T22:50:13.972Z"
   },
   {
    "duration": 6,
    "start_time": "2024-09-05T22:50:14.345Z"
   },
   {
    "duration": 15,
    "start_time": "2024-09-05T22:50:14.696Z"
   },
   {
    "duration": 4,
    "start_time": "2024-09-05T22:50:15.090Z"
   },
   {
    "duration": 7,
    "start_time": "2024-09-05T22:50:15.410Z"
   },
   {
    "duration": 9,
    "start_time": "2024-09-05T22:50:16.749Z"
   },
   {
    "duration": 4,
    "start_time": "2024-09-05T22:50:17.189Z"
   },
   {
    "duration": 9,
    "start_time": "2024-09-05T22:50:17.613Z"
   },
   {
    "duration": 5,
    "start_time": "2024-09-05T22:50:18.057Z"
   },
   {
    "duration": 5,
    "start_time": "2024-09-05T22:50:18.441Z"
   },
   {
    "duration": 3,
    "start_time": "2024-09-05T22:50:18.945Z"
   },
   {
    "duration": 4,
    "start_time": "2024-09-05T22:50:20.719Z"
   },
   {
    "duration": 116,
    "start_time": "2024-09-05T22:50:21.163Z"
   },
   {
    "duration": 6,
    "start_time": "2024-09-05T22:50:21.628Z"
   },
   {
    "duration": 171,
    "start_time": "2024-09-05T22:50:22.074Z"
   },
   {
    "duration": 23,
    "start_time": "2024-09-05T22:50:23.442Z"
   },
   {
    "duration": 77,
    "start_time": "2024-09-05T22:50:23.919Z"
   },
   {
    "duration": 9,
    "start_time": "2024-09-05T22:50:25.775Z"
   },
   {
    "duration": 175,
    "start_time": "2024-09-05T22:50:26.286Z"
   },
   {
    "duration": 5,
    "start_time": "2024-09-05T22:50:26.824Z"
   },
   {
    "duration": 71,
    "start_time": "2024-09-05T22:50:27.784Z"
   },
   {
    "duration": 57,
    "start_time": "2024-09-05T22:50:28.245Z"
   },
   {
    "duration": 119,
    "start_time": "2024-09-05T22:50:28.739Z"
   },
   {
    "duration": 8,
    "start_time": "2024-09-05T22:50:29.737Z"
   },
   {
    "duration": 12,
    "start_time": "2024-09-05T22:50:31.667Z"
   },
   {
    "duration": 5,
    "start_time": "2024-09-05T22:50:32.145Z"
   },
   {
    "duration": 51,
    "start_time": "2024-09-05T22:50:32.708Z"
   },
   {
    "duration": 45,
    "start_time": "2024-09-05T22:50:33.204Z"
   },
   {
    "duration": 12,
    "start_time": "2024-09-05T22:50:33.734Z"
   },
   {
    "duration": 9,
    "start_time": "2024-09-05T22:50:34.171Z"
   },
   {
    "duration": 154,
    "start_time": "2024-09-05T22:50:34.643Z"
   },
   {
    "duration": 254,
    "start_time": "2024-09-05T22:50:35.132Z"
   },
   {
    "duration": 977,
    "start_time": "2024-09-05T22:50:35.650Z"
   },
   {
    "duration": 67,
    "start_time": "2024-09-05T22:50:36.630Z"
   },
   {
    "duration": 7,
    "start_time": "2024-09-05T22:50:36.763Z"
   },
   {
    "duration": 12,
    "start_time": "2024-09-05T22:50:37.662Z"
   },
   {
    "duration": 109,
    "start_time": "2024-09-05T22:50:38.484Z"
   },
   {
    "duration": 11,
    "start_time": "2024-09-05T22:50:40.288Z"
   },
   {
    "duration": 159,
    "start_time": "2024-09-05T22:50:41.007Z"
   },
   {
    "duration": 7,
    "start_time": "2024-09-05T22:50:42.661Z"
   },
   {
    "duration": 14,
    "start_time": "2024-09-05T22:50:43.294Z"
   },
   {
    "duration": 12,
    "start_time": "2024-09-05T22:50:43.856Z"
   },
   {
    "duration": 16,
    "start_time": "2024-09-05T22:50:44.408Z"
   },
   {
    "duration": 726,
    "start_time": "2024-09-05T22:50:45.368Z"
   },
   {
    "duration": 16,
    "start_time": "2024-09-05T22:50:46.875Z"
   },
   {
    "duration": 10,
    "start_time": "2024-09-05T22:50:47.474Z"
   },
   {
    "duration": 4,
    "start_time": "2024-09-05T22:50:48.052Z"
   },
   {
    "duration": 22,
    "start_time": "2024-09-05T22:50:49.358Z"
   },
   {
    "duration": 17,
    "start_time": "2024-09-05T22:51:05.292Z"
   },
   {
    "duration": 11,
    "start_time": "2024-09-05T22:51:10.719Z"
   },
   {
    "duration": 10,
    "start_time": "2024-09-05T22:51:18.753Z"
   },
   {
    "duration": 10,
    "start_time": "2024-09-05T22:51:19.465Z"
   },
   {
    "duration": 20,
    "start_time": "2024-09-05T22:51:20.184Z"
   },
   {
    "duration": 5,
    "start_time": "2024-09-05T22:51:21.126Z"
   },
   {
    "duration": 5,
    "start_time": "2024-09-05T22:51:22.007Z"
   },
   {
    "duration": 8,
    "start_time": "2024-09-05T22:51:24.788Z"
   },
   {
    "duration": 7,
    "start_time": "2024-09-05T22:51:25.381Z"
   },
   {
    "duration": 12,
    "start_time": "2024-09-05T22:51:26.085Z"
   },
   {
    "duration": 6,
    "start_time": "2024-09-05T22:51:26.906Z"
   },
   {
    "duration": 6,
    "start_time": "2024-09-05T22:51:28.438Z"
   },
   {
    "duration": 11,
    "start_time": "2024-09-05T22:51:29.134Z"
   },
   {
    "duration": 5,
    "start_time": "2024-09-05T22:51:29.829Z"
   },
   {
    "duration": 97,
    "start_time": "2024-09-05T22:51:30.427Z"
   },
   {
    "duration": 11,
    "start_time": "2024-09-05T22:51:33.669Z"
   },
   {
    "duration": 19,
    "start_time": "2024-09-05T22:51:47.961Z"
   },
   {
    "duration": 67,
    "start_time": "2024-09-05T23:13:42.568Z"
   },
   {
    "duration": 46,
    "start_time": "2024-09-05T23:13:45.244Z"
   },
   {
    "duration": 126,
    "start_time": "2024-09-05T23:13:52.681Z"
   },
   {
    "duration": 4,
    "start_time": "2024-09-06T01:44:16.055Z"
   }
  ],
  "kernelspec": {
   "display_name": "Python 3 (ipykernel)",
   "language": "python",
   "name": "python3"
  },
  "language_info": {
   "codemirror_mode": {
    "name": "ipython",
    "version": 3
   },
   "file_extension": ".py",
   "mimetype": "text/x-python",
   "name": "python",
   "nbconvert_exporter": "python",
   "pygments_lexer": "ipython3",
   "version": "3.9.19"
  },
  "toc": {
   "base_numbering": 1,
   "nav_menu": {},
   "number_sections": true,
   "sideBar": true,
   "skip_h1_title": true,
   "title_cell": "Table of Contents",
   "title_sidebar": "Contents",
   "toc_cell": false,
   "toc_position": {
    "height": "calc(100% - 180px)",
    "left": "10px",
    "top": "150px",
    "width": "373px"
   },
   "toc_section_display": true,
   "toc_window_display": false
  }
 },
 "nbformat": 4,
 "nbformat_minor": 2
}
